{
 "cells": [
  {
   "cell_type": "code",
   "execution_count": 1,
   "id": "d63c5a94-7b50-439a-8177-53bc1d94a382",
   "metadata": {},
   "outputs": [
    {
     "name": "stderr",
     "output_type": "stream",
     "text": [
      "In file included from /Users/nikita/.pyxbld/temp.macosx-11.0-arm64-3.10/pyrex/SLFVP.c:698:\n",
      "In file included from /opt/miniconda3/envs/genomic/lib/python3.10/site-packages/numpy/core/include/numpy/arrayobject.h:5:\n",
      "In file included from /opt/miniconda3/envs/genomic/lib/python3.10/site-packages/numpy/core/include/numpy/ndarrayobject.h:12:\n",
      "In file included from /opt/miniconda3/envs/genomic/lib/python3.10/site-packages/numpy/core/include/numpy/ndarraytypes.h:1960:\n",
      "/opt/miniconda3/envs/genomic/lib/python3.10/site-packages/numpy/core/include/numpy/npy_1_7_deprecated_api.h:17:2: warning: \"Using deprecated NumPy API, disable it with \"          \"#define NPY_NO_DEPRECATED_API NPY_1_7_API_VERSION\" [-W#warnings]\n",
      "#warning \"Using deprecated NumPy API, disable it with \" \\\n",
      " ^\n",
      "1 warning generated.\n",
      "ld: warning: -pie being ignored. It is only used when linking a main executable\n"
     ]
    }
   ],
   "source": [
    "import cython\n",
    "import pyximport\n",
    "import numpy as np\n",
    "from importlib import reload\n",
    "%load_ext Cython\n",
    "pyximport.install(setup_args={\n",
    "                              \"include_dirs\":numpy.get_include()},\n",
    "                  reload_support=True)\n",
    "import SLFVP"
   ]
  },
  {
   "cell_type": "code",
   "execution_count": 36,
   "id": "2a3bb4e5-c665-4e64-8494-4f452e36f77d",
   "metadata": {},
   "outputs": [
    {
     "name": "stderr",
     "output_type": "stream",
     "text": [
      "In file included from /Users/nikita/.pyxbld/temp.macosx-11.0-arm64-3.10/pyrex/SLFVP.c:698:\n",
      "In file included from /opt/miniconda3/envs/genomic/lib/python3.10/site-packages/numpy/core/include/numpy/arrayobject.h:5:\n",
      "In file included from /opt/miniconda3/envs/genomic/lib/python3.10/site-packages/numpy/core/include/numpy/ndarrayobject.h:12:\n",
      "In file included from /opt/miniconda3/envs/genomic/lib/python3.10/site-packages/numpy/core/include/numpy/ndarraytypes.h:1960:\n",
      "/opt/miniconda3/envs/genomic/lib/python3.10/site-packages/numpy/core/include/numpy/npy_1_7_deprecated_api.h:17:2: warning: \"Using deprecated NumPy API, disable it with \"          \"#define NPY_NO_DEPRECATED_API NPY_1_7_API_VERSION\" [-W#warnings]\n",
      "#warning \"Using deprecated NumPy API, disable it with \" \\\n",
      " ^\n",
      "1 warning generated.\n",
      "ld: warning: -pie being ignored. It is only used when linking a main executable\n"
     ]
    }
   ],
   "source": [
    "reload(SLFVP)\n",
    "import SLFVP"
   ]
  },
  {
   "cell_type": "code",
   "execution_count": 37,
   "id": "4f1a7274-7603-4c19-8ea5-aa78b2270ad2",
   "metadata": {},
   "outputs": [
    {
     "name": "stderr",
     "output_type": "stream",
     "text": [
      "100%|████████████████████████████████████| 10000/10000 [00:17<00:00, 565.44it/s]\n"
     ]
    }
   ],
   "source": [
    "a = SLFVP.SLFVP(L=1,\n",
    "                 lamda=1,\n",
    "                 u0=0.4,\n",
    "                 rho=10000,\n",
    "                 theta=0.1,\n",
    "                 alpha=1,\n",
    "                 n_alleles=10)\n",
    "a.initiate(10000, 0.3)\n",
    "a.run()"
   ]
  },
  {
   "cell_type": "code",
   "execution_count": null,
   "id": "74b05307-0c0e-4659-9045-048c4e3cda47",
   "metadata": {},
   "outputs": [],
   "source": [
    "np.array(a.events.times)"
   ]
  },
  {
   "cell_type": "code",
   "execution_count": null,
   "id": "9b8a41b7-77ed-4c14-8625-ecd2af08ec19",
   "metadata": {},
   "outputs": [],
   "source": [
    "a.plt_SFS2(0., 0., 0.2, 0.5)"
   ]
  },
  {
   "cell_type": "code",
   "execution_count": null,
   "id": "5611b4ea-1673-430a-850c-33a5b60fb8e4",
   "metadata": {},
   "outputs": [],
   "source": [
    "a.plot_with_alleles(5)"
   ]
  },
  {
   "cell_type": "code",
   "execution_count": null,
   "id": "d2448c97-adf4-4b0d-b520-e92c25f9cfa7",
   "metadata": {},
   "outputs": [],
   "source": [
    "print(a.state.n_alive)"
   ]
  },
  {
   "cell_type": "code",
   "execution_count": null,
   "id": "b1e63f93-982d-478e-8d86-66877517d336",
   "metadata": {},
   "outputs": [],
   "source": [
    "a.extinction(0.5, 0.5)"
   ]
  },
  {
   "cell_type": "code",
   "execution_count": null,
   "id": "069b358b-b5b4-4e5a-9f78-ab37311c99fb",
   "metadata": {},
   "outputs": [],
   "source": [
    "a.recolonization(0.5, 0.5, 0)"
   ]
  },
  {
   "cell_type": "code",
   "execution_count": 28,
   "id": "c44306fe-45bd-456d-a7b2-3be4a94da530",
   "metadata": {},
   "outputs": [
    {
     "data": {
      "text/plain": [
       "10007"
      ]
     },
     "execution_count": 28,
     "metadata": {},
     "output_type": "execute_result"
    }
   ],
   "source": [
    "a.state.n_alive"
   ]
  },
  {
   "cell_type": "code",
   "execution_count": 29,
   "id": "4c8d10ac-f151-426f-ad87-ea44629dae97",
   "metadata": {},
   "outputs": [
    {
     "data": {
      "text/plain": [
       "100531"
      ]
     },
     "execution_count": 29,
     "metadata": {},
     "output_type": "execute_result"
    }
   ],
   "source": [
    "a.state.n_dead"
   ]
  },
  {
   "cell_type": "code",
   "execution_count": null,
   "id": "c6218147-0246-4ad6-a76c-e29b31a6fe15",
   "metadata": {
    "scrolled": true,
    "tags": []
   },
   "outputs": [],
   "source": [
    "a.run()"
   ]
  },
  {
   "cell_type": "code",
   "execution_count": null,
   "id": "493c86f3-9ce5-4750-b244-261e6f97229b",
   "metadata": {},
   "outputs": [],
   "source": [
    "a.state.individuals[list(a.state.ids_alive)[0]].time"
   ]
  },
  {
   "cell_type": "code",
   "execution_count": null,
   "id": "39d3ee82-81db-404e-b3a3-05be1d37af75",
   "metadata": {},
   "outputs": [],
   "source": [
    "a.choose_parent(0.5,0.5)"
   ]
  },
  {
   "cell_type": "code",
   "execution_count": null,
   "id": "564e91ad-5dc4-46d4-b327-91480a4847e1",
   "metadata": {},
   "outputs": [],
   "source": []
  },
  {
   "cell_type": "code",
   "execution_count": null,
   "id": "8ae212e9-0591-401f-b10c-8d6544ff47e2",
   "metadata": {},
   "outputs": [],
   "source": [
    "a.mean_coalescense_time()"
   ]
  },
  {
   "cell_type": "code",
   "execution_count": null,
   "id": "12e81818-f094-464a-a846-72bdf4a14783",
   "metadata": {},
   "outputs": [],
   "source": []
  }
 ],
 "metadata": {
  "kernelspec": {
   "display_name": "Python 3 (ipykernel)",
   "language": "python",
   "name": "python3"
  },
  "language_info": {
   "codemirror_mode": {
    "name": "ipython",
    "version": 3
   },
   "file_extension": ".py",
   "mimetype": "text/x-python",
   "name": "python",
   "nbconvert_exporter": "python",
   "pygments_lexer": "ipython3",
   "version": "3.10.5"
  }
 },
 "nbformat": 4,
 "nbformat_minor": 5
}
