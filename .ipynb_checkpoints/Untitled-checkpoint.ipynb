{
 "cells": [
  {
   "cell_type": "code",
   "execution_count": 1,
   "id": "777d28bb-9bb8-40bc-bd77-64a22d41a9fa",
   "metadata": {},
   "outputs": [
    {
     "name": "stdout",
     "output_type": "stream",
     "text": [
      "Compiling SLFVP.pyx because it changed.\n",
      "[1/1] Cythonizing SLFVP.pyx\n",
      "running build_ext\n",
      "building 'SLFVP' extension\n",
      "arm64-apple-darwin20.0.0-clang -Wno-unused-result -Wsign-compare -Wunreachable-code -DNDEBUG -fwrapv -O2 -Wall -fPIC -O2 -isystem /opt/miniconda3/envs/genomic/include -arch arm64 -fPIC -O2 -isystem /opt/miniconda3/envs/genomic/include -arch arm64 -ftree-vectorize -fPIC -fPIE -fstack-protector-strong -O2 -pipe -isystem /opt/miniconda3/envs/genomic/include -D_FORTIFY_SOURCE=2 -isystem /opt/miniconda3/envs/genomic/include -DNPY_NO_DEPRECATED_API=NPY_1_7_API_VERSION -I/opt/miniconda3/envs/genomic/lib/python3.10/site-packages/numpy/core/include -I/opt/miniconda3/envs/genomic/include/python3.10 -c SLFVP.cpp -o build/temp.macosx-11.0-arm64-3.10/SLFVP.o -std=c++11\n",
      "arm64-apple-darwin20.0.0-clang++ -bundle -undefined dynamic_lookup -Wl,-rpath,/opt/miniconda3/envs/genomic/lib -L/opt/miniconda3/envs/genomic/lib -Wl,-rpath,/opt/miniconda3/envs/genomic/lib -L/opt/miniconda3/envs/genomic/lib -Wl,-pie -Wl,-headerpad_max_install_names -Wl,-dead_strip_dylibs -Wl,-rpath,/opt/miniconda3/envs/genomic/lib -L/opt/miniconda3/envs/genomic/lib -ftree-vectorize -fPIC -fPIE -fstack-protector-strong -O2 -pipe -isystem /opt/miniconda3/envs/genomic/include -D_FORTIFY_SOURCE=2 -isystem /opt/miniconda3/envs/genomic/include build/temp.macosx-11.0-arm64-3.10/SLFVP.o -o build/lib.macosx-11.0-arm64-3.10/SLFVP.cpython-310-darwin.so\n",
      "ld: warning: -pie being ignored. It is only used when linking a main executable\n",
      "copying build/lib.macosx-11.0-arm64-3.10/SLFVP.cpython-310-darwin.so -> \n"
     ]
    }
   ],
   "source": [
    "!python setup.py build_ext --inplace"
   ]
  },
  {
   "cell_type": "code",
   "execution_count": 2,
   "id": "5ce96416-5982-4e2c-b76b-190552241bfb",
   "metadata": {},
   "outputs": [],
   "source": [
    "import cython\n",
    "import pyximport\n",
    "import numpy as np"
   ]
  },
  {
   "cell_type": "code",
   "execution_count": 3,
   "id": "d63c5a94-7b50-439a-8177-53bc1d94a382",
   "metadata": {},
   "outputs": [],
   "source": [
    "import SLFVP"
   ]
  },
  {
   "cell_type": "code",
   "execution_count": 10,
   "id": "4f1a7274-7603-4c19-8ea5-aa78b2270ad2",
   "metadata": {},
   "outputs": [],
   "source": [
    "a = SLFVP.SLFVP(L=1,\n",
    "                 lamda=1,\n",
    "                 u0=0.1,\n",
    "                 rho=100,\n",
    "                 theta=0.3,\n",
    "                 alpha=1,\n",
    "                 n_alleles=2)\n",
    "a.initiate(3, 0.5)\n",
    "# a.run()"
   ]
  },
  {
   "cell_type": "code",
   "execution_count": 11,
   "id": "9b18df46-79f3-470f-aead-a38b1dd7cf19",
   "metadata": {},
   "outputs": [
    {
     "data": {
      "text/plain": [
       "{1}"
      ]
     },
     "execution_count": 11,
     "metadata": {},
     "output_type": "execute_result"
    }
   ],
   "source": [
    "a.state.ids_alive"
   ]
  },
  {
   "cell_type": "code",
   "execution_count": null,
   "id": "acaf8957-5e5e-49dd-9376-2d918b8dc048",
   "metadata": {},
   "outputs": [],
   "source": [
    "a.S"
   ]
  },
  {
   "cell_type": "code",
   "execution_count": null,
   "id": "b205206b-c17b-49a2-958d-cd4c62e6e795",
   "metadata": {
    "scrolled": true,
    "tags": []
   },
   "outputs": [],
   "source": [
    "a.plot_alleles(alpha=0.3)"
   ]
  },
  {
   "cell_type": "code",
   "execution_count": null,
   "id": "1655fe26-8ceb-4e2a-8c56-757bf779c17e",
   "metadata": {},
   "outputs": [],
   "source": [
    "a.lifetime()"
   ]
  },
  {
   "cell_type": "code",
   "execution_count": null,
   "id": "1f776084-d206-4278-a12e-6b3b9b46e00c",
   "metadata": {},
   "outputs": [],
   "source": [
    "np.array(ltime).mean()"
   ]
  },
  {
   "cell_type": "code",
   "execution_count": null,
   "id": "34f4ec12-2243-4cda-9be5-65f1b86a5528",
   "metadata": {},
   "outputs": [],
   "source": [
    "from tqdm import tqdm\n",
    "import matplotlib.pyplot as plt"
   ]
  },
  {
   "cell_type": "code",
   "execution_count": null,
   "id": "9a2d4c46-e110-40c2-a340-f28b525dd2f0",
   "metadata": {},
   "outputs": [],
   "source": [
    "list_dead = list(a.state.ids_dead)\n",
    "ltime = list()\n",
    "for i in tqdm(list_dead):\n",
    "    ltime.append(a.state.individuals[i].death_time - a.state.individuals[i].time)\n",
    "\n",
    "plt.hist(ltime, bins = 10000);"
   ]
  },
  {
   "cell_type": "code",
   "execution_count": null,
   "id": "d98df7f2-18f6-4115-8ed5-3e02321a68b3",
   "metadata": {},
   "outputs": [],
   "source": [
    "list"
   ]
  },
  {
   "cell_type": "code",
   "execution_count": null,
   "id": "e9430c2b-67a0-485b-9a27-74223a731c53",
   "metadata": {},
   "outputs": [],
   "source": []
  },
  {
   "cell_type": "code",
   "execution_count": null,
   "id": "d2448c97-adf4-4b0d-b520-e92c25f9cfa7",
   "metadata": {},
   "outputs": [],
   "source": [
    "print(a.state.n_alive)"
   ]
  },
  {
   "cell_type": "code",
   "execution_count": null,
   "id": "42f9ff98-3426-47f9-b5c0-e4aef1927743",
   "metadata": {},
   "outputs": [],
   "source": [
    "list(a.state.ids_dead)[100]"
   ]
  },
  {
   "cell_type": "code",
   "execution_count": null,
   "id": "8ae212e9-0591-401f-b10c-8d6544ff47e2",
   "metadata": {},
   "outputs": [],
   "source": [
    "a.mean_coalescense_time()"
   ]
  },
  {
   "cell_type": "code",
   "execution_count": null,
   "id": "12e81818-f094-464a-a846-72bdf4a14783",
   "metadata": {},
   "outputs": [],
   "source": [
    "a.coalescense_time(8312, 9943)"
   ]
  },
  {
   "cell_type": "code",
   "execution_count": null,
   "id": "30e72a43-d5f8-44e0-bcca-4c8a87c34ae2",
   "metadata": {},
   "outputs": [],
   "source": [
    "a.state.individuals[101].death_time"
   ]
  },
  {
   "cell_type": "code",
   "execution_count": null,
   "id": "2abd9477-6305-4c56-9034-c7503741690c",
   "metadata": {},
   "outputs": [],
   "source": []
  },
  {
   "cell_type": "code",
   "execution_count": null,
   "id": "2bada31f-17b1-4ddd-8ee3-7763d33b87e2",
   "metadata": {},
   "outputs": [],
   "source": [
    "a.lamda/a.integral"
   ]
  },
  {
   "cell_type": "code",
   "execution_count": null,
   "id": "1718b67b-e1a8-43fd-900e-4543905f097f",
   "metadata": {},
   "outputs": [],
   "source": [
    "a.mean_lifetime(), a.lamda/a.integral"
   ]
  },
  {
   "cell_type": "code",
   "execution_count": null,
   "id": "df4d232a-bd29-49e1-8135-3267975823ce",
   "metadata": {},
   "outputs": [],
   "source": [
    "a.plot_with_alleles(1)"
   ]
  },
  {
   "cell_type": "code",
   "execution_count": null,
   "id": "ae990e74-7d34-4f9a-993d-daf69f027a71",
   "metadata": {},
   "outputs": [],
   "source": []
  },
  {
   "cell_type": "code",
   "execution_count": null,
   "id": "b78fe980-cbab-4d7f-804a-3fc44246cd02",
   "metadata": {},
   "outputs": [],
   "source": []
  }
 ],
 "metadata": {
  "kernelspec": {
   "display_name": "Python 3 (ipykernel)",
   "language": "python",
   "name": "python3"
  },
  "language_info": {
   "codemirror_mode": {
    "name": "ipython",
    "version": 3
   },
   "file_extension": ".py",
   "mimetype": "text/x-python",
   "name": "python",
   "nbconvert_exporter": "python",
   "pygments_lexer": "ipython3",
   "version": "3.10.5"
  }
 },
 "nbformat": 4,
 "nbformat_minor": 5
}
