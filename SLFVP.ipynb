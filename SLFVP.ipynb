{
 "cells": [
  {
   "cell_type": "markdown",
   "id": "8afd205c-b766-4162-8381-c86903a12d33",
   "metadata": {},
   "source": [
    "# Spatial Lambda Fleming Viot process"
   ]
  },
  {
   "cell_type": "markdown",
   "id": "b3ec6502-bcec-47d4-acef-d4b0b81cb917",
   "metadata": {},
   "source": [
    "Класс модели:\n",
    "    - Аттрибуты:\n",
    "        - Параметры модели\n",
    "        - Вложенные классы:\n",
    "            - Класс состояния:\n",
    "                - Время\n",
    "                - Список особей с их координатами в настоящий м\n",
    "            "
   ]
  },
  {
   "cell_type": "markdown",
   "id": "05db7f07-85c0-4ef3-aff4-1e07680b63d9",
   "metadata": {},
   "source": [
    "## Generate Poisson dynamic $\\Pi$"
   ]
  },
  {
   "cell_type": "code",
   "execution_count": 251,
   "id": "3864a59c-580c-443d-8c61-31cfee43962f",
   "metadata": {},
   "outputs": [],
   "source": [
    "import numpy as np\n",
    "import matplotlib.pyplot as plt\n",
    "import scipy as sc\n",
    "import scipy.integrate as integr\n",
    "from tqdm import tqdm\n",
    "from icecream import ic"
   ]
  },
  {
   "cell_type": "code",
   "execution_count": 554,
   "id": "816c723c-998d-405c-b34b-4280552447bf",
   "metadata": {},
   "outputs": [],
   "source": [
    "class State:\n",
    "    def __init__(self, time=0):\n",
    "        self.time = 0\n",
    "        self.individuals=None\n",
    "        self.hist=None\n",
    "        self.freeId = 1\n",
    "        \n",
    "        \n",
    "    def create(self, individuals):\n",
    "        Ids = np.arange(self.freeId, self.freeId+len(individuals))\n",
    "        self.individuals = np.column_stack((Ids, individuals))\n",
    "        self.hist = np.column_stack((Ids, individuals))\n",
    "        self.freeId = self.freeId+len(individuals)\n",
    "        \n",
    "        \n",
    "    def delete(self, ids):\n",
    "        self.individuals = np.delete(self.individuals, ids, axis=0)\n",
    "    \n",
    "    \n",
    "    def add(self, individuals):\n",
    "        Ids = np.arange(self.freeId, self.freeId+len(individuals))\n",
    "        self.individuals = np.append(self.individuals, np.column_stack((Ids, individuals)),axis=0)\n",
    "        self.hist = np.append(self.hist, np.column_stack((Ids, individuals)),axis=0)\n",
    "        self.freeId = self.freeId+len(individuals)\n",
    "        \n",
    "    \n",
    "    def genealogy(self, Id):\n",
    "        lst = [[Id, self.hist[self.hist[:,0] == Id][0,2]]]\n",
    "        parent_id = self.hist[self.hist[:,0] == Id][0,1]\n",
    "        \n",
    "        while parent_id!= 0:\n",
    "            parent_time = self.hist[self.hist[:,0] == parent_id][0,2]\n",
    "            lst.append([int(parent_id), parent_time])\n",
    "            parent_id = self.hist[self.hist[:,0] == parent_id][0,1]\n",
    "        return lst\n",
    "    \n",
    "    def build_tree(self, id1, id2):\n",
    "        parents1, parents2 = self.genealogy(id1)[::-1], self.genealogy(id2)[::-1]\n",
    "        # ic(parents1, parents2)\n",
    "        for i in range(max(len(parents1), len(parents2))):\n",
    "            if i < min(len(parents1), len(parents2)):\n",
    "                if parents1[i] == parents2[i]:\n",
    "                    print(f'{parents1[i][1]}\\t{parents1[i][0]}')\n",
    "                else:\n",
    "                \n",
    "                    print(f'{max(parents1[i][1],parents2[i][1])}\\t{parents1[i][0]}\\t{parents2[i][0]}')\n",
    "            elif i < len(parents1):\n",
    "                    print(f'{parents1[i][1]}\\t{parents1[i][0]} \\t ')\n",
    "            else:\n",
    "                print(f'{parents2[i][1]}\\t\\t {parents2[i][0]}')\n",
    "        "
   ]
  },
  {
   "cell_type": "code",
   "execution_count": 620,
   "id": "a4f318ec-c8a5-41f2-9edd-a198f831af9e",
   "metadata": {},
   "outputs": [],
   "source": [
    "class Model:\n",
    "    def __init__(self, L=1, lamda=1, u0=0.4, rho=1000, theta=0.5, alpha=1, n_alleles=10):\n",
    "        self.rho=rho\n",
    "        self.L=L\n",
    "        self.u0=u0\n",
    "        self.theta=theta\n",
    "        self.alpha=alpha\n",
    "        self.lamda = lamda\n",
    "        self.state = State()\n",
    "        self.n_alleles = n_alleles\n",
    "        self.dynamic=None\n",
    "        \n",
    "        \n",
    "        \n",
    "#--------------Initializating functions-------------------\n",
    "        \n",
    "        \n",
    "    def generate_dynamic(self, n_epoch, time_init=0):\n",
    "        '''Result is in (time, x, y)\n",
    "        NOTE! MAYBE LAMBDA SHOULD BE RENORMALISED'''\n",
    "        times = time_init + np.cumsum(np.random.exponential(self.lamda, n_epoch))\n",
    "        xs = np.random.uniform(0, self.L, n_epoch)\n",
    "        ys = np.random.uniform(0, self.L, n_epoch)\n",
    "        self.dynamic = np.column_stack((xs, ys, times))\n",
    "        \n",
    "        \n",
    "    def generate_initial_points(self):\n",
    "        N_points = np.random.poisson(self.rho*self.L**2)\n",
    "        xs = np.random.uniform(0, self.L, N_points)\n",
    "        ys = np.random.uniform(0, self.L, N_points)\n",
    "        return np.column_stack((xs, ys))\n",
    "        \n",
    "        \n",
    "    def initiate(self, proport=0.5):\n",
    "        N_points = np.random.poisson(self.rho*self.L**2)\n",
    "        xs = np.random.uniform(0, self.L, N_points)\n",
    "        ys = np.random.uniform(0, self.L, N_points)\n",
    "        alleles = np.random.choice([0, 1], (N_points, self.n_alleles), p = [1 - proport, proport])\n",
    "        pId = np.full(N_points, 0)\n",
    "        times = np.full(N_points, 0)\n",
    "        self.state.create(np.column_stack((pId, times, xs, ys ,alleles)))\n",
    "        \n",
    "    \n",
    "    def choose_parent(self, z):\n",
    "        probs = []\n",
    "        for x in self.state.individuals:\n",
    "            probs.append(self.v(z[0:2], x[3:5]))\n",
    "        return self.state.individuals[np.random.choice(np.arange(len(self.state.individuals)), p = probs/np.sum(probs))]\n",
    "    \n",
    "    \n",
    "    def choose_parent_type(self, z):\n",
    "        probs = []\n",
    "        for x in self.state.individuals:\n",
    "            probs.append(self.v(z[0:2], x[3:5])) \n",
    "        return self.state.individuals[np.random.choice(np.arange(len(self.state.individuals)), p = probs/np.sum(probs))][5:]\n",
    "    \n",
    "    \n",
    "    \n",
    "#--------------Evolution functions--------------------------    \n",
    "    def extinction(self, event):\n",
    "        z, time = event[0:2], event[2]\n",
    "        time = 0\n",
    "        # time = event[2]\n",
    "        ids = [] #ids to delete\n",
    "        for i in range(len(self.state.individuals)):\n",
    "            if np.random.uniform() < self.u(z, self.state.individuals[i,3:5]):\n",
    "                ids.append(i)\n",
    "                # print(f'{indicies=}')\n",
    "        # print(f'survived {points[indicies].shape=}')\n",
    "        self.state.delete(ids)\n",
    "    \n",
    "    \n",
    "    def recolonization(self, event):\n",
    "        z, time = event[0:2], event[2]\n",
    "        parent = self.choose_parent(z)\n",
    "        parentId = parent[0]\n",
    "        parentType = parent[5:]\n",
    "        intensity = lambda x, y: self.u(z, np.array([x,y]))\n",
    "        max_intensity = intensity(z[0], z[1])\n",
    "        total_intensity = integr.dblquad(intensity, 0, self.L, 0,  self.L )[0]\n",
    "        # print(f\"{total_intensity=}\\n{max_intensity=}\")\n",
    "        n_points = np.random.poisson(self.rho * total_intensity) # Тут вроде total\n",
    "        # print(f'{rho * total_intensity=}')\n",
    "        # print(f'recolonized {n_points=}')\n",
    "        points = []\n",
    "        generated = 0\n",
    "        while generated < n_points:\n",
    "            x = np.random.uniform(0, self.L)\n",
    "            y = np.random.uniform(0, self.L)\n",
    "\n",
    "            if self.L**2 * intensity(x,y) >= np.random.uniform(0, max_intensity):\n",
    "                points.append([x,y])\n",
    "                generated += 1\n",
    "        \n",
    "        \n",
    "        points = np.array(points,ndmin=2)\n",
    "        points = np.column_stack(\n",
    "            (\n",
    "                np.full(n_points,parentId),\n",
    "                np.full(n_points,time),\n",
    "                points,\n",
    "                np.full((n_points, self.n_alleles), parentType)\n",
    "            )\n",
    "        )\n",
    "        self.state.add(points)\n",
    "   \n",
    "\n",
    "    \n",
    "    \n",
    "    \n",
    "    def propagate(self, event):# parameters -- list [L, rho, u0, alpha, theta]\n",
    "        # ic(event)\n",
    "        # pass\n",
    "        self.extinction(event)\n",
    "        self.recolonization(event)\n",
    "    \n",
    "    \n",
    "    def run(self):\n",
    "        for event in tqdm(self.dynamic):\n",
    "            self.propagate(event) \n",
    "    \n",
    "#----------------Hat functions------------------------    \n",
    "    def v(self, z, x):\n",
    "        return np.exp(- np.linalg.norm(z-x)/(2 * self.alpha**2 * self.theta**2))\n",
    "    \n",
    "    \n",
    "    def u(self, z, x):\n",
    "        return self.u0 * np.exp(- np.linalg.norm(z-x)/(2 * self.theta**2))\n",
    "    \n",
    "    \n",
    "    def h(self, z, x, beta = 1):\n",
    "        return np.exp(-np.linalg.norm(z-x)/beta**2)\n",
    "    \n",
    "    \n",
    "#---------------ANALYS FUNCTIONS----------------------- \n",
    "    def density(self, z, beta=1):\n",
    "        points = self.state.individuals\n",
    "        denom = 0\n",
    "        thetas = np.zeros(self.n_alleles)\n",
    "        for x in points:\n",
    "            denom += self.h(z, x[3:5], beta)\n",
    "            for k in range(self.n_alleles):\n",
    "                if x[k+5] == 1:\n",
    "                    thetas[k] += self.h(z, x[3:5], beta)\n",
    "        thetas = thetas / denom\n",
    "\n",
    "        return thetas\n",
    "\n",
    "\n",
    "    def plt_SFS1(self, z, beta=1):\n",
    "        d = self.density(z, beta=1)\n",
    "        N = 100\n",
    "        y = []\n",
    "        for i in range(N):\n",
    "            y.append((d<(i+1)/100).sum())\n",
    "        plt.plot(y)\n",
    "\n",
    "\n",
    "    def plt_SFS2(self, z1, z2,beta=1):\n",
    "        d1 = self.density(z1, beta=1)\n",
    "        d2 = self.density(z2, beta=1)\n",
    "        N = 100\n",
    "        y = np.zeros((N,N))\n",
    "        for i in range(N):\n",
    "            for j in range(N):\n",
    "                y[i,j]=(np.logical_and(d1<(i+1)/N, d2<(j+1)/N).sum())\n",
    "        plt.imshow(y, extent=[0,1,0,1])\n",
    "        \n",
    "        \n",
    "    def plot_with_alleles(self, allele=0, alpha=0.5):\n",
    "        points = self.state.individuals\n",
    "        plt.scatter(points[points[:,5+allele]==0][:,3],points[points[:,5+allele]==0][:,4], alpha, label ='0 allele')\n",
    "        plt.scatter(points[points[:,5+allele]==1][:,3],points[points[:,5+allele]==1][:,4], alpha, label = '1 allele')\n",
    "        plt.legend()\n",
    "        plt.show();\n",
    "#--------------------Auxilary\n",
    "    \n",
    "    def save(self):\n",
    "        return (self.rho, \n",
    "                self.L,\n",
    "                self.u0,\n",
    "                self.theta,\n",
    "                self.alpha,\n",
    "                self.lamda,\n",
    "                self.n_alleles,\n",
    "                np.copy(self.dynamic),\n",
    "                np.copy(self.state.individuals),\n",
    "                np.copy(self.state.hist))\n",
    "\n",
    "    \n",
    "    def load(self, data):\n",
    "        self.rho, \n",
    "        self.L,\n",
    "        self.u0,\n",
    "        self.theta,\n",
    "        self.alpha,\n",
    "        self.lamda,\n",
    "        self.n_alleles,\n",
    "        self.dynamic,\n",
    "        self.state.individuals,\n",
    "        self.state.hist = data"
   ]
  },
  {
   "cell_type": "code",
   "execution_count": 621,
   "id": "04874c29-71e1-43b3-b3fc-40c110404bf6",
   "metadata": {},
   "outputs": [],
   "source": [
    "a = Model(\n",
    "    rho = 1000,\n",
    "    L = 1,\n",
    "    lamda = 1,\n",
    "    u0 = 0.4,\n",
    "    alpha = 1,\n",
    "    theta = 0.3,\n",
    "    n_alleles = 5\n",
    ")"
   ]
  },
  {
   "cell_type": "code",
   "execution_count": 612,
   "id": "5dace1cc-7f45-411b-84e4-c585f9536231",
   "metadata": {},
   "outputs": [],
   "source": [
    "a.generate_dynamic(50)"
   ]
  },
  {
   "cell_type": "code",
   "execution_count": 613,
   "id": "04915f4f-40c6-4868-8779-15cd9116aa5d",
   "metadata": {},
   "outputs": [],
   "source": [
    "a.initiate(0.4)"
   ]
  },
  {
   "cell_type": "code",
   "execution_count": 614,
   "id": "6eaae9fc-d1d1-49aa-b467-ad909039f8f7",
   "metadata": {},
   "outputs": [
    {
     "data": {
      "text/plain": [
       "(976, 10)"
      ]
     },
     "execution_count": 614,
     "metadata": {},
     "output_type": "execute_result"
    }
   ],
   "source": [
    "a.state.individuals.shape"
   ]
  },
  {
   "cell_type": "code",
   "execution_count": 615,
   "id": "3b681ef5-964c-4194-a8d3-ca812bd7b96c",
   "metadata": {},
   "outputs": [
    {
     "name": "stderr",
     "output_type": "stream",
     "text": [
      "100%|█████████████████████████████████████████████████████████████████████████████████████████████████████████████████████████████████████████████████████████████████████████████████████████████████████████| 50/50 [00:07<00:00,  7.10it/s]\n"
     ]
    }
   ],
   "source": [
    "a.run()"
   ]
  },
  {
   "cell_type": "code",
   "execution_count": 616,
   "id": "762f1c0b-7bb2-4d4f-b297-049dafce8d29",
   "metadata": {},
   "outputs": [],
   "source": [
    "saved = a.save()"
   ]
  },
  {
   "cell_type": "code",
   "execution_count": 617,
   "id": "044614cd-f5c1-4a59-96d4-1faab0670a5a",
   "metadata": {},
   "outputs": [],
   "source": [
    "b = Model(0,0,0,0,0,0,0)"
   ]
  },
  {
   "cell_type": "code",
   "execution_count": 618,
   "id": "bc0c1e43-6784-4f73-9645-b802b15b1d9f",
   "metadata": {},
   "outputs": [],
   "source": [
    "b.load(saved)"
   ]
  },
  {
   "cell_type": "code",
   "execution_count": 619,
   "id": "04217a50-3e2f-49dc-98d8-d68651ab6ec8",
   "metadata": {},
   "outputs": [
    {
     "data": {
      "text/plain": [
       "<__main__.Model at 0x174b62800>"
      ]
     },
     "execution_count": 619,
     "metadata": {},
     "output_type": "execute_result"
    }
   ],
   "source": [
    "b"
   ]
  },
  {
   "cell_type": "code",
   "execution_count": 565,
   "id": "aa822038-5b08-4188-9a31-75ac52d3c22f",
   "metadata": {},
   "outputs": [
    {
     "data": {
      "text/plain": [
       "[[10800, 197.87072070869186],\n",
       " [9611, 164.04001956092856],\n",
       " [7678, 124.12829176537669],\n",
       " [7494, 122.18498108718764],\n",
       " [7446, 120.89947028461373],\n",
       " [6769, 108.3906892611479],\n",
       " [5931, 94.07883791569],\n",
       " [5860, 94.06171298416756],\n",
       " [5773, 92.9052448096736],\n",
       " [5032, 77.57182933468876],\n",
       " [772, 0.0]]"
      ]
     },
     "execution_count": 565,
     "metadata": {},
     "output_type": "execute_result"
    }
   ],
   "source": [
    "a.state.genealogy(10800)"
   ]
  },
  {
   "cell_type": "code",
   "execution_count": 566,
   "id": "c9cd1857-8084-42a1-b93a-5ea5189a2858",
   "metadata": {},
   "outputs": [
    {
     "name": "stdout",
     "output_type": "stream",
     "text": [
      "0.0\t772\n",
      "77.57182933468876\t5032\n",
      "92.9052448096736\t5773\n",
      "94.06171298416756\t5860\n",
      "94.07883791569\t5931\n",
      "108.3906892611479\t6769\n",
      "120.89947028461373\t7446\n",
      "122.18498108718764\t7494\n",
      "124.12829176537669\t7678\n",
      "164.04001956092856\t9611\t9628\n",
      "197.87072070869186\t10800\t10197\n",
      "187.50386142875644\t\t 10300\n"
     ]
    }
   ],
   "source": [
    "a.state.build_tree(10800, 10300)"
   ]
  },
  {
   "cell_type": "code",
   "execution_count": 307,
   "id": "174b1cf5-0e8b-491c-9eb0-4b4b246f48e2",
   "metadata": {},
   "outputs": [
    {
     "data": {
      "text/plain": [
       "array([], shape=(0, 10), dtype=float64)"
      ]
     },
     "execution_count": 307,
     "metadata": {},
     "output_type": "execute_result"
    }
   ],
   "source": [
    "a.state.hist[a.state.hist[:,0]==3445]"
   ]
  },
  {
   "cell_type": "code",
   "execution_count": 516,
   "id": "91893d75-b8d9-42f8-8940-85c32262df9e",
   "metadata": {},
   "outputs": [
    {
     "data": {
      "text/plain": [
       "array([1.80010000e+04, 1.65430000e+04, 3.20570960e+02, 9.95288502e-01,\n",
       "       8.05790258e-01, 1.00000000e+00, 1.00000000e+00, 1.00000000e+00,\n",
       "       0.00000000e+00, 1.00000000e+00])"
      ]
     },
     "execution_count": 516,
     "metadata": {},
     "output_type": "execute_result"
    }
   ],
   "source": [
    "a.state.hist[18000]"
   ]
  },
  {
   "cell_type": "code",
   "execution_count": 519,
   "id": "08a9cc9c-89fc-45c4-b6b2-522c841fa3fa",
   "metadata": {},
   "outputs": [
    {
     "data": {
      "text/plain": [
       "array([[1.65430000e+04, 1.63580000e+04, 2.92674280e+02, 7.67969572e-01,\n",
       "        5.35191458e-01, 1.00000000e+00, 1.00000000e+00, 1.00000000e+00,\n",
       "        0.00000000e+00, 1.00000000e+00]])"
      ]
     },
     "execution_count": 519,
     "metadata": {},
     "output_type": "execute_result"
    }
   ],
   "source": [
    "a.state.hist[a.state.hist[:,0]==16543]"
   ]
  },
  {
   "cell_type": "code",
   "execution_count": 520,
   "id": "c0850e7f-e8d5-44a1-bb7c-76ef98ed69b7",
   "metadata": {},
   "outputs": [
    {
     "data": {
      "text/plain": [
       "array([[1.65380000e+04, 1.63580000e+04, 2.92674280e+02, 8.71653873e-01,\n",
       "        4.61146049e-01, 1.00000000e+00, 1.00000000e+00, 1.00000000e+00,\n",
       "        0.00000000e+00, 1.00000000e+00]])"
      ]
     },
     "execution_count": 520,
     "metadata": {},
     "output_type": "execute_result"
    }
   ],
   "source": [
    "a.state.hist[a.state.hist[:,0]==16538]"
   ]
  },
  {
   "cell_type": "code",
   "execution_count": 333,
   "id": "79e4756e-e842-4497-a405-dcf30583482a",
   "metadata": {},
   "outputs": [
    {
     "name": "stderr",
     "output_type": "stream",
     "text": [
      "ic| parents1: [0,\n",
      "               2639,\n",
      "               4414,\n",
      "               5386,\n",
      "               5823,\n",
      "               5947,\n",
      "               6107,\n",
      "               7347,\n",
      "               9829,\n",
      "               11704,\n",
      "               12176,\n",
      "               12291,\n",
      "               13089,\n",
      "               13130,\n",
      "               13396,\n",
      "               13579,\n",
      "               15726,\n",
      "               16720,\n",
      "               16912,\n",
      "               19462,\n",
      "               19620,\n",
      "               20012]\n",
      "    parents2: [0,\n",
      "               2685,\n",
      "               4556,\n",
      "               6037,\n",
      "               9044,\n",
      "               9193,\n",
      "               10532,\n",
      "               12374,\n",
      "               12841,\n",
      "               12904,\n",
      "               13787,\n",
      "               14602,\n",
      "               15228,\n",
      "               15372,\n",
      "               17187,\n",
      "               18093,\n",
      "               20000]\n"
     ]
    },
    {
     "name": "stdout",
     "output_type": "stream",
     "text": [
      "0\n",
      "2639 \t 2685\n",
      "4414 \t 4556\n",
      "5386 \t 6037\n",
      "5823 \t 9044\n",
      "5947 \t 9193\n",
      "6107 \t 10532\n",
      "7347 \t 12374\n",
      "9829 \t 12841\n",
      "11704 \t 12904\n",
      "12176 \t 13787\n",
      "12291 \t 14602\n",
      "13089 \t 15228\n",
      "13130 \t 15372\n",
      "13396 \t 17187\n",
      "13579 \t 18093\n",
      "15726 \t 20000\n",
      "16720 \t \n",
      "16912 \t \n",
      "19462 \t \n",
      "19620 \t \n",
      "20012 \t \n"
     ]
    }
   ],
   "source": [
    "a.state.build_tree(20012, 20000)"
   ]
  },
  {
   "cell_type": "code",
   "execution_count": 121,
   "id": "96901a2f-7ec2-46a0-b9a9-500da0673e5f",
   "metadata": {},
   "outputs": [
    {
     "data": {
      "image/png": "[encoded data removed]",
      "text/plain": [
       "<Figure size 432x288 with 1 Axes>"
      ]
     },
     "metadata": {
      "needs_background": "light"
     },
     "output_type": "display_data"
    }
   ],
   "source": [
    "a.plt_SFS1(1, np.array([0.5,0.5]))"
   ]
  }
 ],
 "metadata": {
  "kernelspec": {
   "display_name": "Python 3 (ipykernel)",
   "language": "python",
   "name": "python3"
  },
  "language_info": {
   "codemirror_mode": {
    "name": "ipython",
    "version": 3
   },
   "file_extension": ".py",
   "mimetype": "text/x-python",
   "name": "python",
   "nbconvert_exporter": "python",
   "pygments_lexer": "ipython3",
   "version": "3.10.5"
  }
 },
 "nbformat": 4,
 "nbformat_minor": 5
}
