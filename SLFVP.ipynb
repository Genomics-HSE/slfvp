{
 "cells": [
  {
   "cell_type": "markdown",
   "id": "8afd205c-b766-4162-8381-c86903a12d33",
   "metadata": {},
   "source": [
    "# Spatial Lambda Fleming Viot process"
   ]
  },
  {
   "cell_type": "markdown",
   "id": "b3ec6502-bcec-47d4-acef-d4b0b81cb917",
   "metadata": {},
   "source": [
    "Класс модели:\n",
    "    - Аттрибуты:\n",
    "        - Параметры модели\n",
    "        - Вложенные классы:\n",
    "            - Класс состояния:\n",
    "                - Время\n",
    "                - Список особей с их координатами в настоящий м\n",
    "            "
   ]
  },
  {
   "cell_type": "code",
   "execution_count": 867,
   "id": "3864a59c-580c-443d-8c61-31cfee43962f",
   "metadata": {},
   "outputs": [
    {
     "name": "stdout",
     "output_type": "stream",
     "text": [
      "The Cython extension is already loaded. To reload it, use:\n",
      "  %reload_ext Cython\n"
     ]
    }
   ],
   "source": [
    "import numpy as np\n",
    "import matplotlib.pyplot as plt\n",
    "import scipy as sc\n",
    "import scipy.integrate as integr\n",
    "from tqdm import tqdm\n",
    "from icecream import ic\n",
    "from anytree import NodeMixin, RenderTree\n",
    "from anytree import find_by_attr, PreOrderIter\n",
    "import pandas as pd\n",
    "%load_ext Cython"
   ]
  },
  {
   "cell_type": "code",
   "execution_count": 868,
   "id": "cd951612-fadf-4209-9bfb-d383eb8a1f7a",
   "metadata": {},
   "outputs": [],
   "source": [
    "def tor2_distance(x, y, w=1, h=1):\n",
    "    return (min(abs(x[0] - x[1]), w - abs(x[0] - x[1]))**2 + min(abs(y[0] - y[1]), h - abs(y[0] - y[1]))^2)**0.5"
   ]
  },
  {
   "cell_type": "code",
   "execution_count": 974,
   "id": "816c723c-998d-405c-b34b-4280552447bf",
   "metadata": {},
   "outputs": [],
   "source": [
    "import pandas as pd\n",
    "import numpy as np\n",
    "import scipy as sc\n",
    "import scipy.integrate as integr\n",
    "from tqdm import tqdm\n",
    "from anytree import NodeMixin, RenderTree\n",
    "from anytree import find_by_attr, PreOrderIter\n",
    "import matplotlib.pyplot as plt\n",
    "class Node(NodeMixin):\n",
    "    def __init__(self, index=0, time=0, parent=None, children=None):\n",
    "        self.id = index\n",
    "        self.parent = parent\n",
    "        self.time=time\n",
    "        if children:  # set children only if given\n",
    "             self.children = children\n",
    "    def __repr__(self):\n",
    "             return str(f'id:{self.id}, time:{self.time}')\n",
    "    def __str__(self):\n",
    "        return str(f'id:{self.id}, time:{self.time}')\n",
    "    \n",
    "    \n",
    "class State:\n",
    "    # cdef public double time\n",
    "    # cdef public int freeId\n",
    "    def __init__(self, n_alleles, time=0):\n",
    "        self.time = 0\n",
    "        self.n_alleles = n_alleles\n",
    "        self.individuals= pd.DataFrame(columns=['Id', 'ParentId', 'time', 'x', 'y']+ list(range(1, n_alleles+1)))\n",
    "        self.individuals.set_index('Id', inplace= True)\n",
    "        self.hist = pd.DataFrame(columns=['Id', 'ParentId', 'time', 'x', 'y']+ list(range(1, n_alleles+1)))\n",
    "        self.hist.set_index('Id', inplace=True)\n",
    "        \n",
    "        \n",
    "    def create(self, individuals):\n",
    "        self.individuals = pd.DataFrame(individuals, columns=list(self.individuals))\n",
    "        self.hist = pd.DataFrame(individuals, columns=list(self.individuals))\n",
    "        \n",
    "        \n",
    "    def delete(self, ids):\n",
    "        self.individuals.drop(ids, inplace=True)\n",
    "    \n",
    "    \n",
    "    def add(self, individuals):\n",
    "        self.individuals = pd.concat([self.individuals, pd.DataFrame(individuals, columns=list(self.individuals))], ignore_index=True)\n",
    "        self.hist = pd.concat([self.hist, pd.DataFrame(individuals, columns=list(self.individuals))], ignore_index=True)\n",
    "        \n",
    "    \n",
    "    def genealogy(self, ids ):\n",
    "        table = self.hist[self.hist[:,0] == ids[0]]\n",
    "        for idx in ids[1:]:\n",
    "            table = np.row_stack((table, self.hist[self.hist[:,0] == idx]))\n",
    "        allids = set(ids)\n",
    "        newids = list(set(table[:,1]) - allids)\n",
    "        allids = allids.union(set(newids))\n",
    "        while len(newids)>0:\n",
    "            for idx in newids:\n",
    "                table = np.row_stack((table, self.hist[self.hist[:,0] == idx]))\n",
    "            newids = list(set(table[:,1]) - allids)\n",
    "            allids = allids.union(set(newids))\n",
    "        return table\n",
    "        \n",
    "    \n",
    "    \n",
    "    \n",
    "    def _build_coalesce_tree(self, data, parent=None, index=0):\n",
    "    # data = [[id, parent_id, time]]\n",
    "        root = None\n",
    "        if parent is None:\n",
    "            root = Node()\n",
    "            parent = root\n",
    "        for x in data[data[:,1]==index]:\n",
    "            node = Node(x[0],x[2],parent)\n",
    "            self._build_coalesce_tree(data, node, x[0])\n",
    "        return root\n",
    "        \n",
    "        \n",
    "    def build_coalesce_tree(self, ids):\n",
    "        data = self.genealogy(ids)\n",
    "        return self._build_coalesce_tree(data)\n",
    "            \n",
    "\n",
    "class Model:\n",
    "    # cdef public double rho, L, u0, theta, lamda\n",
    "    # cdef public n_alleles\n",
    "    \n",
    "    \n",
    "    \n",
    "    def __init__(self, L=1., lamda=1., u0=0.4, rho=1000., theta=0.5, alpha=1., n_alleles=10):\n",
    "        self.rho=rho\n",
    "        self.L=L\n",
    "        self.u0=u0\n",
    "        self.theta=theta\n",
    "        self.alpha=alpha\n",
    "        self.lamda = lamda\n",
    "        self.n_alleles = n_alleles\n",
    "        self.dynamic=None\n",
    "        self.state = State(n_alleles)\n",
    "        \n",
    "        \n",
    "        \n",
    "        \n",
    "        \n",
    "#--------------Initializating functions-------------------\n",
    "        \n",
    "        \n",
    "    def generate_dynamic(self, n_epoch, time_init=0):\n",
    "        '''Result is in (time, x, y)\n",
    "        NOTE! MAYBE LAMBDA SHOULD BE RENORMALISED'''\n",
    "        times = time_init + np.cumsum(np.random.exponential(self.lamda, n_epoch))\n",
    "        xs = np.random.uniform(0, self.L, n_epoch)\n",
    "        ys = np.random.uniform(0, self.L, n_epoch)\n",
    "        self.dynamic = np.column_stack((xs, ys, times))\n",
    "        \n",
    "        \n",
    "    def generate_initial_points(self):\n",
    "        '''Fill state.individuals with points according to uniform poisson point process with density \\\\rho'''\n",
    "        N_points = np.random.poisson(self.rho*self.L**2)\n",
    "        xs = np.random.uniform(0, self.L, N_points)\n",
    "        ys = np.random.uniform(0, self.L, N_points)\n",
    "        return np.column_stack((xs, ys))\n",
    "        \n",
    "        \n",
    "    def initiate(self, proport=0.5):\n",
    "        N_points = np.random.poisson(self.rho*self.L**2)\n",
    "        xs = np.random.uniform(0, self.L, N_points)\n",
    "        ys = np.random.uniform(0, self.L, N_points)\n",
    "        alleles = np.random.choice([0, 1], (N_points, self.n_alleles), p = [1 - proport, proport])\n",
    "        pId = np.full(N_points, 0)\n",
    "        times = np.full(N_points, 0)\n",
    "        self.state.create(np.column_stack((pId, times, xs, ys ,alleles)))\n",
    "        \n",
    "    \n",
    "    def choose_parent(self, z):\n",
    "        probs = []\n",
    "        for i in range(self.state.individuals.shape[0]):\n",
    "            probs.append(self.v(z[0:2], self.state.individuals.iloc[i][['x','y']].values))\n",
    "        return self.state.individuals.iloc[np.random.choice(np.arange(len(self.state.individuals)), p = probs/np.sum(probs))]\n",
    "    \n",
    "    \n",
    "    def choose_parent_type(self, z):\n",
    "        probs = []\n",
    "        for i in range(self.state.individuals.shape[0]):\n",
    "            probs.append(self.v(z[0:2], x[3:5])) \n",
    "        return self.state.individuals[np.random.choice(np.arange(len(self.state.individuals)), p = probs/np.sum(probs))][5:]\n",
    "    \n",
    "    \n",
    "    \n",
    "#--------------Evolution functions--------------------------    \n",
    "    def extinction(self, event):\n",
    "        z, time = event[0:2], event[2]\n",
    "        time = 0\n",
    "        # time = event[2]\n",
    "        ids = [] #ids to delete\n",
    "        for i in range(self.state.individuals.shape[0]):\n",
    "            if np.random.uniform() < self.u(z, self.state.individuals.iloc[i][['x','y']].values):\n",
    "                ids.append(i)\n",
    "                # print(f'{indicies=}')\n",
    "        # print(f'survived {points[indicies].shape=}')\n",
    "        self.state.delete(ids)\n",
    "    \n",
    "    \n",
    "    def recolonization(self, event):\n",
    "        z, time = event[0:2], event[2]\n",
    "        parent = self.choose_parent(z)\n",
    "        parentId = parent.name\n",
    "        parentType = parent[range(1, self.n_alleles+1)].values\n",
    "        intensity = lambda x, y: self.u(z, np.array([x,y]))\n",
    "        max_intensity = intensity(z[0], z[1])\n",
    "        total_intensity = integr.dblquad(intensity, 0, self.L, 0,  self.L )[0]\n",
    "        # print(f\"{total_intensity=}\\n{max_intensity=}\")\n",
    "        n_points = np.random.poisson(self.rho * total_intensity) # Тут вроде total\n",
    "        # print(f'{rho * total_intensity=}')\n",
    "        # print(f'recolonized {n_points=}')\n",
    "        points = []\n",
    "        generated = 0\n",
    "        while generated < n_points:\n",
    "            x = np.random.uniform(0, self.L)\n",
    "            y = np.random.uniform(0, self.L)\n",
    "\n",
    "            if self.L**2 * intensity(x,y) >= np.random.uniform(0, max_intensity):\n",
    "                points.append([x,y])\n",
    "                generated += 1\n",
    "        \n",
    "        \n",
    "        points = np.array(points,ndmin=2)\n",
    "        points = np.column_stack(\n",
    "            (\n",
    "                np.full(n_points,parentId),\n",
    "                np.full(n_points,time),\n",
    "                points,\n",
    "                np.full((n_points, self.n_alleles), parentType)\n",
    "            )\n",
    "        )\n",
    "        self.state.add(points)\n",
    "   \n",
    "\n",
    "    \n",
    "    \n",
    "    \n",
    "    def propagate(self, event):# parameters -- list [L, rho, u0, alpha, theta]\n",
    "        # ic(event)\n",
    "        # pass\n",
    "        self.extinction(event)\n",
    "        self.recolonization(event)\n",
    "    \n",
    "    \n",
    "    def run(self):\n",
    "        for event in tqdm(self.dynamic):\n",
    "            self.propagate(event) \n",
    "    \n",
    "#----------------Hat functions------------------------    \n",
    "    def v(self, z, x):\n",
    "        return np.exp(- np.linalg.norm(z-x)/(2 * self.alpha**2 * self.theta**2))\n",
    "    \n",
    "    \n",
    "    def u(self, z, x):\n",
    "        return self.u0 * np.exp(- np.linalg.norm(z-x)/(2 * self.theta**2))\n",
    "    \n",
    "    \n",
    "    def h(self, z, x, beta = 1):\n",
    "        return np.exp(-np.linalg.norm(z-x)/beta**2)\n",
    "    \n",
    "    \n",
    "#---------------ANALYS FUNCTIONS----------------------- \n",
    "    def density(self, z, beta=1):\n",
    "        points = self.state.individuals\n",
    "        denom = 0\n",
    "        thetas = np.zeros(self.n_alleles)\n",
    "        for x in points:\n",
    "            denom += self.h(z, x[3:5], beta)\n",
    "            for k in range(self.n_alleles):\n",
    "                if x[k+5] == 1:\n",
    "                    thetas[k] += self.h(z, x[3:5], beta)\n",
    "        thetas = thetas / denom\n",
    "\n",
    "        return thetas\n",
    "\n",
    "\n",
    "    def plt_SFS1(self, z, beta=1):\n",
    "        d = self.density(z, beta=1)\n",
    "        N = 100\n",
    "        y = []\n",
    "        for i in range(N):\n",
    "            y.append((d<(i+1)/100).sum())\n",
    "        plt.plot(y)\n",
    "\n",
    "\n",
    "    def plt_SFS2(self, z1, z2,beta=1):\n",
    "        d1 = self.density(z1, beta=1)\n",
    "        d2 = self.density(z2, beta=1)\n",
    "        N = 100\n",
    "        y = np.zeros((N,N))\n",
    "        for i in range(N):\n",
    "            for j in range(N):\n",
    "                y[i,j]=(np.logical_and(d1<(i+1)/N, d2<(j+1)/N).sum())\n",
    "        plt.imshow(y, extent=[0,1,0,1])\n",
    "        \n",
    "        \n",
    "    def plot_with_alleles(self, allele=0, alpha=0.5):\n",
    "        points = self.state.individuals\n",
    "        plt.scatter(points[points[:,5+allele]==0][:,3],points[points[:,5+allele]==0][:,4], alpha, label ='0 allele')\n",
    "        plt.scatter(points[points[:,5+allele]==1][:,3],points[points[:,5+allele]==1][:,4], alpha, label = '1 allele')\n",
    "        plt.legend()\n",
    "        plt.show();\n",
    "#--------------------Auxilary\n",
    "    \n",
    "    def save(self):\n",
    "        return (self.rho, \n",
    "                self.L,\n",
    "                self.u0,\n",
    "                self.theta,\n",
    "                self.alpha,\n",
    "                self.lamda,\n",
    "                self.n_alleles,\n",
    "                np.copy(self.dynamic),\n",
    "                np.copy(self.state.individuals),\n",
    "                np.copy(self.state.hist))\n",
    "\n",
    "    \n",
    "    def load(self, data):\n",
    "        self.rho, \n",
    "        self.L,\n",
    "        self.u0,\n",
    "        self.theta,\n",
    "        self.alpha,\n",
    "        self.lamda,\n",
    "        self.n_alleles,\n",
    "        self.dynamic,\n",
    "        self.state.individuals,\n",
    "        self.state.hist = data\n",
    "            "
   ]
  },
  {
   "cell_type": "code",
   "execution_count": 975,
   "id": "a4f318ec-c8a5-41f2-9edd-a198f831af9e",
   "metadata": {},
   "outputs": [],
   "source": [
    "s = State(3)"
   ]
  },
  {
   "cell_type": "code",
   "execution_count": 976,
   "id": "86f77d1c-770d-4005-8360-2ed5bd14d953",
   "metadata": {},
   "outputs": [
    {
     "data": {
      "text/plain": [
       "['ParentId', 'time', 'x', 'y', 1, 2, 3]"
      ]
     },
     "execution_count": 976,
     "metadata": {},
     "output_type": "execute_result"
    }
   ],
   "source": [
    "list(s.individuals)"
   ]
  },
  {
   "cell_type": "code",
   "execution_count": 977,
   "id": "0d19a628-db31-4c24-a25b-670bb4e87da6",
   "metadata": {},
   "outputs": [],
   "source": [
    "s.create(np.array([[2,3,4,5,6, 2, 3], [3,4,5,6, 7, 6, 3]]))"
   ]
  },
  {
   "cell_type": "code",
   "execution_count": 973,
   "id": "d918e402-62f3-4f1a-8ac5-c77e6e9ae121",
   "metadata": {},
   "outputs": [
    {
     "data": {
      "text/plain": [
       "array([[6, 2, 3],\n",
       "       [7, 6, 3]])"
      ]
     },
     "execution_count": 973,
     "metadata": {},
     "output_type": "execute_result"
    }
   ],
   "source": [
    "s.individuals[range(1,4)].values"
   ]
  },
  {
   "cell_type": "code",
   "execution_count": 866,
   "id": "0d423ddb-904b-4e63-88d6-6fcb6f376f51",
   "metadata": {},
   "outputs": [
    {
     "data": {
      "text/html": [
       "<div>\n",
       "<style scoped>\n",
       "    .dataframe tbody tr th:only-of-type {\n",
       "        vertical-align: middle;\n",
       "    }\n",
       "\n",
       "    .dataframe tbody tr th {\n",
       "        vertical-align: top;\n",
       "    }\n",
       "\n",
       "    .dataframe thead th {\n",
       "        text-align: right;\n",
       "    }\n",
       "</style>\n",
       "<table border=\"1\" class=\"dataframe\">\n",
       "  <thead>\n",
       "    <tr style=\"text-align: right;\">\n",
       "      <th></th>\n",
       "      <th>ParentId</th>\n",
       "      <th>time</th>\n",
       "      <th>x</th>\n",
       "      <th>y</th>\n",
       "      <th>1</th>\n",
       "    </tr>\n",
       "  </thead>\n",
       "  <tbody>\n",
       "    <tr>\n",
       "      <th>0</th>\n",
       "      <td>2</td>\n",
       "      <td>3</td>\n",
       "      <td>4</td>\n",
       "      <td>5</td>\n",
       "      <td>6</td>\n",
       "    </tr>\n",
       "    <tr>\n",
       "      <th>1</th>\n",
       "      <td>3</td>\n",
       "      <td>4</td>\n",
       "      <td>5</td>\n",
       "      <td>6</td>\n",
       "      <td>7</td>\n",
       "    </tr>\n",
       "    <tr>\n",
       "      <th>2</th>\n",
       "      <td>2</td>\n",
       "      <td>3</td>\n",
       "      <td>4</td>\n",
       "      <td>5</td>\n",
       "      <td>6</td>\n",
       "    </tr>\n",
       "    <tr>\n",
       "      <th>5</th>\n",
       "      <td>3</td>\n",
       "      <td>4</td>\n",
       "      <td>5</td>\n",
       "      <td>6</td>\n",
       "      <td>7</td>\n",
       "    </tr>\n",
       "    <tr>\n",
       "      <th>6</th>\n",
       "      <td>2</td>\n",
       "      <td>3</td>\n",
       "      <td>4</td>\n",
       "      <td>5</td>\n",
       "      <td>6</td>\n",
       "    </tr>\n",
       "    <tr>\n",
       "      <th>7</th>\n",
       "      <td>3</td>\n",
       "      <td>4</td>\n",
       "      <td>5</td>\n",
       "      <td>6</td>\n",
       "      <td>7</td>\n",
       "    </tr>\n",
       "  </tbody>\n",
       "</table>\n",
       "</div>"
      ],
      "text/plain": [
       "   ParentId  time  x  y  1\n",
       "0         2     3  4  5  6\n",
       "1         3     4  5  6  7\n",
       "2         2     3  4  5  6\n",
       "5         3     4  5  6  7\n",
       "6         2     3  4  5  6\n",
       "7         3     4  5  6  7"
      ]
     },
     "execution_count": 866,
     "metadata": {},
     "output_type": "execute_result"
    }
   ],
   "source": [
    "s.individuals.drop([3,4])"
   ]
  },
  {
   "cell_type": "code",
   "execution_count": 916,
   "id": "34d0259d-92ca-451c-a760-0b1ea8831924",
   "metadata": {},
   "outputs": [
    {
     "data": {
      "text/plain": [
       "array([6, 8])"
      ]
     },
     "execution_count": 916,
     "metadata": {},
     "output_type": "execute_result"
    }
   ],
   "source": [
    "s.individuals.iloc[1][['x','y']].values + np.array([1,2])"
   ]
  },
  {
   "cell_type": "code",
   "execution_count": 914,
   "id": "43e162b9-01c5-4f62-946b-68d84698290d",
   "metadata": {},
   "outputs": [
    {
     "data": {
      "text/plain": [
       "array([3, 4, 5, 6, 7])"
      ]
     },
     "execution_count": 914,
     "metadata": {},
     "output_type": "execute_result"
    }
   ],
   "source": [
    "s.individuals.iloc[1].values"
   ]
  },
  {
   "cell_type": "code",
   "execution_count": 988,
   "id": "04874c29-71e1-43b3-b3fc-40c110404bf6",
   "metadata": {},
   "outputs": [],
   "source": [
    "a = Model(\n",
    "    rho = 1000,\n",
    "    L = 1,\n",
    "    lamda = 1,\n",
    "    u0 = 0.4,\n",
    "    alpha = 1,\n",
    "    theta = 0.3,\n",
    "    n_alleles = 5\n",
    ")"
   ]
  },
  {
   "cell_type": "code",
   "execution_count": 989,
   "id": "5dace1cc-7f45-411b-84e4-c585f9536231",
   "metadata": {},
   "outputs": [],
   "source": [
    "a.generate_dynamic(100)"
   ]
  },
  {
   "cell_type": "code",
   "execution_count": 990,
   "id": "04915f4f-40c6-4868-8779-15cd9116aa5d",
   "metadata": {},
   "outputs": [],
   "source": [
    "a.initiate(0.4)"
   ]
  },
  {
   "cell_type": "code",
   "execution_count": 991,
   "id": "6eaae9fc-d1d1-49aa-b467-ad909039f8f7",
   "metadata": {},
   "outputs": [
    {
     "data": {
      "text/html": [
       "<div>\n",
       "<style scoped>\n",
       "    .dataframe tbody tr th:only-of-type {\n",
       "        vertical-align: middle;\n",
       "    }\n",
       "\n",
       "    .dataframe tbody tr th {\n",
       "        vertical-align: top;\n",
       "    }\n",
       "\n",
       "    .dataframe thead th {\n",
       "        text-align: right;\n",
       "    }\n",
       "</style>\n",
       "<table border=\"1\" class=\"dataframe\">\n",
       "  <thead>\n",
       "    <tr style=\"text-align: right;\">\n",
       "      <th></th>\n",
       "      <th>ParentId</th>\n",
       "      <th>time</th>\n",
       "      <th>x</th>\n",
       "      <th>y</th>\n",
       "      <th>1</th>\n",
       "      <th>2</th>\n",
       "      <th>3</th>\n",
       "      <th>4</th>\n",
       "      <th>5</th>\n",
       "    </tr>\n",
       "  </thead>\n",
       "  <tbody>\n",
       "    <tr>\n",
       "      <th>0</th>\n",
       "      <td>0.0</td>\n",
       "      <td>0.0</td>\n",
       "      <td>0.498587</td>\n",
       "      <td>0.537458</td>\n",
       "      <td>0.0</td>\n",
       "      <td>1.0</td>\n",
       "      <td>0.0</td>\n",
       "      <td>0.0</td>\n",
       "      <td>1.0</td>\n",
       "    </tr>\n",
       "    <tr>\n",
       "      <th>1</th>\n",
       "      <td>0.0</td>\n",
       "      <td>0.0</td>\n",
       "      <td>0.477317</td>\n",
       "      <td>0.982001</td>\n",
       "      <td>0.0</td>\n",
       "      <td>0.0</td>\n",
       "      <td>0.0</td>\n",
       "      <td>0.0</td>\n",
       "      <td>0.0</td>\n",
       "    </tr>\n",
       "    <tr>\n",
       "      <th>2</th>\n",
       "      <td>0.0</td>\n",
       "      <td>0.0</td>\n",
       "      <td>0.427283</td>\n",
       "      <td>0.068215</td>\n",
       "      <td>0.0</td>\n",
       "      <td>1.0</td>\n",
       "      <td>1.0</td>\n",
       "      <td>0.0</td>\n",
       "      <td>1.0</td>\n",
       "    </tr>\n",
       "    <tr>\n",
       "      <th>3</th>\n",
       "      <td>0.0</td>\n",
       "      <td>0.0</td>\n",
       "      <td>0.747975</td>\n",
       "      <td>0.314447</td>\n",
       "      <td>0.0</td>\n",
       "      <td>0.0</td>\n",
       "      <td>0.0</td>\n",
       "      <td>0.0</td>\n",
       "      <td>0.0</td>\n",
       "    </tr>\n",
       "    <tr>\n",
       "      <th>4</th>\n",
       "      <td>0.0</td>\n",
       "      <td>0.0</td>\n",
       "      <td>0.841444</td>\n",
       "      <td>0.872773</td>\n",
       "      <td>1.0</td>\n",
       "      <td>0.0</td>\n",
       "      <td>0.0</td>\n",
       "      <td>0.0</td>\n",
       "      <td>0.0</td>\n",
       "    </tr>\n",
       "    <tr>\n",
       "      <th>...</th>\n",
       "      <td>...</td>\n",
       "      <td>...</td>\n",
       "      <td>...</td>\n",
       "      <td>...</td>\n",
       "      <td>...</td>\n",
       "      <td>...</td>\n",
       "      <td>...</td>\n",
       "      <td>...</td>\n",
       "      <td>...</td>\n",
       "    </tr>\n",
       "    <tr>\n",
       "      <th>993</th>\n",
       "      <td>0.0</td>\n",
       "      <td>0.0</td>\n",
       "      <td>0.993774</td>\n",
       "      <td>0.025488</td>\n",
       "      <td>0.0</td>\n",
       "      <td>0.0</td>\n",
       "      <td>1.0</td>\n",
       "      <td>0.0</td>\n",
       "      <td>1.0</td>\n",
       "    </tr>\n",
       "    <tr>\n",
       "      <th>994</th>\n",
       "      <td>0.0</td>\n",
       "      <td>0.0</td>\n",
       "      <td>0.124155</td>\n",
       "      <td>0.571713</td>\n",
       "      <td>1.0</td>\n",
       "      <td>1.0</td>\n",
       "      <td>0.0</td>\n",
       "      <td>0.0</td>\n",
       "      <td>1.0</td>\n",
       "    </tr>\n",
       "    <tr>\n",
       "      <th>995</th>\n",
       "      <td>0.0</td>\n",
       "      <td>0.0</td>\n",
       "      <td>0.783439</td>\n",
       "      <td>0.769096</td>\n",
       "      <td>1.0</td>\n",
       "      <td>0.0</td>\n",
       "      <td>0.0</td>\n",
       "      <td>0.0</td>\n",
       "      <td>0.0</td>\n",
       "    </tr>\n",
       "    <tr>\n",
       "      <th>996</th>\n",
       "      <td>0.0</td>\n",
       "      <td>0.0</td>\n",
       "      <td>0.707834</td>\n",
       "      <td>0.967953</td>\n",
       "      <td>1.0</td>\n",
       "      <td>0.0</td>\n",
       "      <td>0.0</td>\n",
       "      <td>0.0</td>\n",
       "      <td>1.0</td>\n",
       "    </tr>\n",
       "    <tr>\n",
       "      <th>997</th>\n",
       "      <td>0.0</td>\n",
       "      <td>0.0</td>\n",
       "      <td>0.667906</td>\n",
       "      <td>0.945362</td>\n",
       "      <td>1.0</td>\n",
       "      <td>1.0</td>\n",
       "      <td>1.0</td>\n",
       "      <td>1.0</td>\n",
       "      <td>0.0</td>\n",
       "    </tr>\n",
       "  </tbody>\n",
       "</table>\n",
       "<p>998 rows × 9 columns</p>\n",
       "</div>"
      ],
      "text/plain": [
       "     ParentId  time         x         y    1    2    3    4    5\n",
       "0         0.0   0.0  0.498587  0.537458  0.0  1.0  0.0  0.0  1.0\n",
       "1         0.0   0.0  0.477317  0.982001  0.0  0.0  0.0  0.0  0.0\n",
       "2         0.0   0.0  0.427283  0.068215  0.0  1.0  1.0  0.0  1.0\n",
       "3         0.0   0.0  0.747975  0.314447  0.0  0.0  0.0  0.0  0.0\n",
       "4         0.0   0.0  0.841444  0.872773  1.0  0.0  0.0  0.0  0.0\n",
       "..        ...   ...       ...       ...  ...  ...  ...  ...  ...\n",
       "993       0.0   0.0  0.993774  0.025488  0.0  0.0  1.0  0.0  1.0\n",
       "994       0.0   0.0  0.124155  0.571713  1.0  1.0  0.0  0.0  1.0\n",
       "995       0.0   0.0  0.783439  0.769096  1.0  0.0  0.0  0.0  0.0\n",
       "996       0.0   0.0  0.707834  0.967953  1.0  0.0  0.0  0.0  1.0\n",
       "997       0.0   0.0  0.667906  0.945362  1.0  1.0  1.0  1.0  0.0\n",
       "\n",
       "[998 rows x 9 columns]"
      ]
     },
     "execution_count": 991,
     "metadata": {},
     "output_type": "execute_result"
    }
   ],
   "source": [
    "a.state.individuals"
   ]
  },
  {
   "cell_type": "code",
   "execution_count": 985,
   "id": "6787a248-3293-4402-b65d-0f848b0de966",
   "metadata": {},
   "outputs": [],
   "source": [
    "a.recolonization(np.array([0.5,0.5, 2]))"
   ]
  },
  {
   "cell_type": "code",
   "execution_count": 994,
   "id": "3b681ef5-964c-4194-a8d3-ca812bd7b96c",
   "metadata": {},
   "outputs": [
    {
     "name": "stderr",
     "output_type": "stream",
     "text": [
      "100%|███████████████████████████████████████████████████████████████████████████████████████████████████████████████████████████████████████████████████████████████████████████████████████████████████████| 100/100 [00:44<00:00,  2.27it/s]"
     ]
    },
    {
     "name": "stdout",
     "output_type": "stream",
     "text": [
      "CPU times: user 43.7 s, sys: 1.93 s, total: 45.7 s\n",
      "Wall time: 44.1 s\n"
     ]
    },
    {
     "name": "stderr",
     "output_type": "stream",
     "text": [
      "\n"
     ]
    }
   ],
   "source": [
    "%%time\n",
    "a.run()"
   ]
  },
  {
   "cell_type": "code",
   "execution_count": 720,
   "id": "734a6ea0-9cdb-48e3-9ad3-e204223b3a58",
   "metadata": {},
   "outputs": [
    {
     "name": "stderr",
     "output_type": "stream",
     "text": [
      "ld: warning: -pie being ignored. It is only used when linking a main executable\n"
     ]
    }
   ],
   "source": [
    "%%cython\n",
    "\n",
    "cpdef int add(int x, int y):\n",
    "    return (x+y)"
   ]
  },
  {
   "cell_type": "code",
   "execution_count": 724,
   "id": "5ac27747-c1c7-4623-9049-785e684df5c2",
   "metadata": {},
   "outputs": [
    {
     "data": {
      "text/plain": [
       "6"
      ]
     },
     "execution_count": 724,
     "metadata": {},
     "output_type": "execute_result"
    }
   ],
   "source": [
    "add(1,5.3)"
   ]
  },
  {
   "cell_type": "code",
   "execution_count": 685,
   "id": "3c139065-d737-4d56-a7ee-0d40b4fbc245",
   "metadata": {},
   "outputs": [
    {
     "data": {
      "text/plain": [
       "(1971, 10)"
      ]
     },
     "execution_count": 685,
     "metadata": {},
     "output_type": "execute_result"
    }
   ],
   "source": [
    "a.state.hist.shape"
   ]
  },
  {
   "cell_type": "code",
   "execution_count": 686,
   "id": "11ba58ca-4d89-4b3c-8595-238eed216724",
   "metadata": {},
   "outputs": [
    {
     "data": {
      "text/plain": [
       "array([[1.80000000e+03, 1.71600000e+03, 2.30515006e+01, 6.12801701e-01,\n",
       "        1.24166558e-01, 0.00000000e+00, 0.00000000e+00, 0.00000000e+00,\n",
       "        1.00000000e+00, 1.00000000e+00],\n",
       "       [1.60000000e+03, 1.84000000e+02, 1.57332431e+01, 7.45795052e-01,\n",
       "        6.27466489e-01, 1.00000000e+00, 0.00000000e+00, 0.00000000e+00,\n",
       "        1.00000000e+00, 1.00000000e+00],\n",
       "       [1.40000000e+03, 1.24000000e+02, 1.32439410e+01, 8.73157967e-01,\n",
       "        6.52011640e-01, 0.00000000e+00, 0.00000000e+00, 1.00000000e+00,\n",
       "        1.00000000e+00, 1.00000000e+00],\n",
       "       [1.84000000e+02, 0.00000000e+00, 0.00000000e+00, 8.86388945e-02,\n",
       "        6.73335790e-01, 1.00000000e+00, 0.00000000e+00, 0.00000000e+00,\n",
       "        1.00000000e+00, 1.00000000e+00],\n",
       "       [1.71600000e+03, 3.25000000e+02, 1.72933332e+01, 3.22593021e-01,\n",
       "        6.56269861e-01, 0.00000000e+00, 0.00000000e+00, 0.00000000e+00,\n",
       "        1.00000000e+00, 1.00000000e+00],\n",
       "       [1.24000000e+02, 0.00000000e+00, 0.00000000e+00, 6.60923233e-01,\n",
       "        6.68970810e-01, 0.00000000e+00, 0.00000000e+00, 1.00000000e+00,\n",
       "        1.00000000e+00, 1.00000000e+00],\n",
       "       [3.25000000e+02, 0.00000000e+00, 0.00000000e+00, 1.84857702e-01,\n",
       "        7.61659532e-01, 0.00000000e+00, 0.00000000e+00, 0.00000000e+00,\n",
       "        1.00000000e+00, 1.00000000e+00]])"
      ]
     },
     "execution_count": 686,
     "metadata": {},
     "output_type": "execute_result"
    }
   ],
   "source": [
    "a.state.genealogy([1800, 1600, 1400])"
   ]
  },
  {
   "cell_type": "code",
   "execution_count": 687,
   "id": "41f15bab-5596-4a22-af4f-73dec480116e",
   "metadata": {},
   "outputs": [
    {
     "name": "stdout",
     "output_type": "stream",
     "text": [
      "id:0, time:0\n",
      "├── id:184.0, time:0.0\n",
      "│   └── id:1600.0, time:15.733243086635982\n",
      "├── id:124.0, time:0.0\n",
      "│   └── id:1400.0, time:13.24394102016084\n",
      "└── id:325.0, time:0.0\n",
      "    └── id:1716.0, time:17.293333211584905\n",
      "        └── id:1800.0, time:23.051500567529736\n"
     ]
    }
   ],
   "source": [
    "print(RenderTree(a.state.build_coalesce_tree([1800, 1600, 1400])))"
   ]
  },
  {
   "cell_type": "code",
   "execution_count": null,
   "id": "7b9c3dfe-73b8-41d4-b317-057d64262344",
   "metadata": {},
   "outputs": [],
   "source": [
    "def build_coalesce_tree(data, parent=None, index=0):\n",
    "# data = [[id, parent_id, time]]\n",
    "    root = None\n",
    "    if parent is None:\n",
    "        root = Node()\n",
    "        parent = root\n",
    "    for x in data[data[:,1]==index]:\n",
    "        node = Node(x[0],x[2],parent)\n",
    "        build_coalesce_tree(data, node, x[0])\n",
    "    return root"
   ]
  },
  {
   "cell_type": "code",
   "execution_count": 893,
   "id": "216e1beb-d1d7-4f28-b1d4-f8d7971209b6",
   "metadata": {},
   "outputs": [
    {
     "data": {
      "text/plain": [
       "array([5, 6])"
      ]
     },
     "execution_count": 893,
     "metadata": {},
     "output_type": "execute_result"
    }
   ],
   "source": [
    "s.individuals.iloc[1][['x','y']].to_numpy()"
   ]
  },
  {
   "cell_type": "code",
   "execution_count": 900,
   "id": "97fa5bcc-7880-4e2e-be15-3d2ea2ef235b",
   "metadata": {},
   "outputs": [
    {
     "data": {
      "text/plain": [
       "1"
      ]
     },
     "execution_count": 900,
     "metadata": {},
     "output_type": "execute_result"
    }
   ],
   "source": [
    "s.individuals.drop(2).iloc[[1,2,3]].index"
   ]
  },
  {
   "cell_type": "code",
   "execution_count": null,
   "id": "0fb0a9fb-f602-4e79-aae5-ef2874573708",
   "metadata": {},
   "outputs": [],
   "source": [
    "s.individuals"
   ]
  },
  {
   "cell_type": "code",
   "execution_count": 903,
   "id": "169dbb8a-9ef2-462c-96ad-39bfd4a38500",
   "metadata": {},
   "outputs": [
    {
     "name": "stdout",
     "output_type": "stream",
     "text": [
      "[2 3 4 5 6]\n",
      "[3 4 5 6 7]\n",
      "[2 3 4 5 6]\n",
      "[3 4 5 6 7]\n",
      "[2 3 4 5 6]\n",
      "[3 4 5 6 7]\n",
      "[2 3 4 5 6]\n",
      "[3 4 5 6 7]\n"
     ]
    }
   ],
   "source": [
    "for x in s.individuals.to_numpy():\n",
    "    print(x)"
   ]
  },
  {
   "cell_type": "code",
   "execution_count": null,
   "id": "4ee07ccd-099e-4c9e-8781-62d639fcbc5f",
   "metadata": {},
   "outputs": [],
   "source": []
  }
 ],
 "metadata": {
  "kernelspec": {
   "display_name": "Python 3 (ipykernel)",
   "language": "python",
   "name": "python3"
  },
  "language_info": {
   "codemirror_mode": {
    "name": "ipython",
    "version": 3
   },
   "file_extension": ".py",
   "mimetype": "text/x-python",
   "name": "python",
   "nbconvert_exporter": "python",
   "pygments_lexer": "ipython3",
   "version": "3.10.5"
  }
 },
 "nbformat": 4,
 "nbformat_minor": 5
}
