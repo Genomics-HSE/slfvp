{
 "cells": [
  {
   "cell_type": "code",
   "execution_count": 4,
   "id": "d63c5a94-7b50-439a-8177-53bc1d94a382",
   "metadata": {},
   "outputs": [
    {
     "name": "stdout",
     "output_type": "stream",
     "text": [
      "The Cython extension is already loaded. To reload it, use:\n",
      "  %reload_ext Cython\n"
     ]
    },
    {
     "name": "stderr",
     "output_type": "stream",
     "text": [
      "In file included from /Users/nikita/.pyxbld/temp.macosx-11.0-arm64-3.10/pyrex/SLFVP.c:698:\n",
      "In file included from /opt/miniconda3/envs/genomic/lib/python3.10/site-packages/numpy/core/include/numpy/arrayobject.h:5:\n",
      "In file included from /opt/miniconda3/envs/genomic/lib/python3.10/site-packages/numpy/core/include/numpy/ndarrayobject.h:12:\n",
      "In file included from /opt/miniconda3/envs/genomic/lib/python3.10/site-packages/numpy/core/include/numpy/ndarraytypes.h:1960:\n",
      "/opt/miniconda3/envs/genomic/lib/python3.10/site-packages/numpy/core/include/numpy/npy_1_7_deprecated_api.h:17:2: warning: \"Using deprecated NumPy API, disable it with \"          \"#define NPY_NO_DEPRECATED_API NPY_1_7_API_VERSION\" [-W#warnings]\n",
      "#warning \"Using deprecated NumPy API, disable it with \" \\\n",
      " ^\n",
      "/Users/nikita/.pyxbld/temp.macosx-11.0-arm64-3.10/pyrex/SLFVP.c:712:10: fatal error: 'ios' file not found\n",
      "#include \"ios\"\n",
      "         ^~~~~\n",
      "1 warning and 1 error generated.\n"
     ]
    },
    {
     "ename": "ImportError",
     "evalue": "Building module SLFVP failed: [\"distutils.errors.CompileError: command '/opt/miniconda3/envs/genomic/bin/arm64-apple-darwin20.0.0-clang' failed with exit code 1\\n\"]",
     "output_type": "error",
     "traceback": [
      "\u001b[0;31m---------------------------------------------------------------------------\u001b[0m",
      "\u001b[0;31mDistutilsExecError\u001b[0m                        Traceback (most recent call last)",
      "File \u001b[0;32m/opt/miniconda3/envs/genomic/lib/python3.10/site-packages/setuptools/_distutils/unixccompiler.py:173\u001b[0m, in \u001b[0;36mUnixCCompiler._compile\u001b[0;34m(self, obj, src, ext, cc_args, extra_postargs, pp_opts)\u001b[0m\n\u001b[1;32m    172\u001b[0m \u001b[38;5;28;01mtry\u001b[39;00m:\n\u001b[0;32m--> 173\u001b[0m     \u001b[38;5;28;43mself\u001b[39;49m\u001b[38;5;241;43m.\u001b[39;49m\u001b[43mspawn\u001b[49m\u001b[43m(\u001b[49m\u001b[43mcompiler_so\u001b[49m\u001b[43m \u001b[49m\u001b[38;5;241;43m+\u001b[39;49m\u001b[43m \u001b[49m\u001b[43mcc_args\u001b[49m\u001b[43m \u001b[49m\u001b[38;5;241;43m+\u001b[39;49m\u001b[43m \u001b[49m\u001b[43m[\u001b[49m\u001b[43msrc\u001b[49m\u001b[43m,\u001b[49m\u001b[43m \u001b[49m\u001b[38;5;124;43m'\u001b[39;49m\u001b[38;5;124;43m-o\u001b[39;49m\u001b[38;5;124;43m'\u001b[39;49m\u001b[43m,\u001b[49m\u001b[43m \u001b[49m\u001b[43mobj\u001b[49m\u001b[43m]\u001b[49m\u001b[43m \u001b[49m\u001b[38;5;241;43m+\u001b[39;49m\n\u001b[1;32m    174\u001b[0m \u001b[43m               \u001b[49m\u001b[43mextra_postargs\u001b[49m\u001b[43m)\u001b[49m\n\u001b[1;32m    175\u001b[0m \u001b[38;5;28;01mexcept\u001b[39;00m DistutilsExecError \u001b[38;5;28;01mas\u001b[39;00m msg:\n",
      "File \u001b[0;32m/opt/miniconda3/envs/genomic/lib/python3.10/site-packages/setuptools/_distutils/ccompiler.py:917\u001b[0m, in \u001b[0;36mCCompiler.spawn\u001b[0;34m(self, cmd, **kwargs)\u001b[0m\n\u001b[1;32m    916\u001b[0m \u001b[38;5;28;01mdef\u001b[39;00m \u001b[38;5;21mspawn\u001b[39m(\u001b[38;5;28mself\u001b[39m, cmd, \u001b[38;5;241m*\u001b[39m\u001b[38;5;241m*\u001b[39mkwargs):\n\u001b[0;32m--> 917\u001b[0m     \u001b[43mspawn\u001b[49m\u001b[43m(\u001b[49m\u001b[43mcmd\u001b[49m\u001b[43m,\u001b[49m\u001b[43m \u001b[49m\u001b[43mdry_run\u001b[49m\u001b[38;5;241;43m=\u001b[39;49m\u001b[38;5;28;43mself\u001b[39;49m\u001b[38;5;241;43m.\u001b[39;49m\u001b[43mdry_run\u001b[49m\u001b[43m,\u001b[49m\u001b[43m \u001b[49m\u001b[38;5;241;43m*\u001b[39;49m\u001b[38;5;241;43m*\u001b[39;49m\u001b[43mkwargs\u001b[49m\u001b[43m)\u001b[49m\n",
      "File \u001b[0;32m/opt/miniconda3/envs/genomic/lib/python3.10/site-packages/setuptools/_distutils/spawn.py:68\u001b[0m, in \u001b[0;36mspawn\u001b[0;34m(cmd, search_path, verbose, dry_run, env)\u001b[0m\n\u001b[1;32m     67\u001b[0m     cmd \u001b[38;5;241m=\u001b[39m cmd[\u001b[38;5;241m0\u001b[39m]\n\u001b[0;32m---> 68\u001b[0m \u001b[38;5;28;01mraise\u001b[39;00m DistutilsExecError(\n\u001b[1;32m     69\u001b[0m       \u001b[38;5;124m\"\u001b[39m\u001b[38;5;124mcommand \u001b[39m\u001b[38;5;132;01m%r\u001b[39;00m\u001b[38;5;124m failed with exit code \u001b[39m\u001b[38;5;132;01m%s\u001b[39;00m\u001b[38;5;124m\"\u001b[39m \u001b[38;5;241m%\u001b[39m (cmd, exitcode))\n",
      "\u001b[0;31mDistutilsExecError\u001b[0m: command '/opt/miniconda3/envs/genomic/bin/arm64-apple-darwin20.0.0-clang' failed with exit code 1",
      "\nDuring handling of the above exception, another exception occurred:\n",
      "\u001b[0;31mCompileError\u001b[0m                              Traceback (most recent call last)",
      "File \u001b[0;32m/opt/miniconda3/envs/genomic/lib/python3.10/site-packages/pyximport/pyximport.py:214\u001b[0m, in \u001b[0;36mload_module\u001b[0;34m(name, pyxfilename, pyxbuild_dir, is_package, build_inplace, language_level, so_path)\u001b[0m\n\u001b[1;32m    213\u001b[0m         module_name \u001b[38;5;241m=\u001b[39m name\n\u001b[0;32m--> 214\u001b[0m     so_path \u001b[38;5;241m=\u001b[39m \u001b[43mbuild_module\u001b[49m\u001b[43m(\u001b[49m\u001b[43mmodule_name\u001b[49m\u001b[43m,\u001b[49m\u001b[43m \u001b[49m\u001b[43mpyxfilename\u001b[49m\u001b[43m,\u001b[49m\u001b[43m \u001b[49m\u001b[43mpyxbuild_dir\u001b[49m\u001b[43m,\u001b[49m\n\u001b[1;32m    215\u001b[0m \u001b[43m                           \u001b[49m\u001b[43minplace\u001b[49m\u001b[38;5;241;43m=\u001b[39;49m\u001b[43mbuild_inplace\u001b[49m\u001b[43m,\u001b[49m\u001b[43m \u001b[49m\u001b[43mlanguage_level\u001b[49m\u001b[38;5;241;43m=\u001b[39;49m\u001b[43mlanguage_level\u001b[49m\u001b[43m)\u001b[49m\n\u001b[1;32m    216\u001b[0m mod \u001b[38;5;241m=\u001b[39m imp\u001b[38;5;241m.\u001b[39mload_dynamic(name, so_path)\n",
      "File \u001b[0;32m/opt/miniconda3/envs/genomic/lib/python3.10/site-packages/pyximport/pyximport.py:186\u001b[0m, in \u001b[0;36mbuild_module\u001b[0;34m(name, pyxfilename, pyxbuild_dir, inplace, language_level)\u001b[0m\n\u001b[1;32m    185\u001b[0m \u001b[38;5;28;01mfrom\u001b[39;00m \u001b[38;5;21;01m.\u001b[39;00m \u001b[38;5;28;01mimport\u001b[39;00m pyxbuild\n\u001b[0;32m--> 186\u001b[0m so_path \u001b[38;5;241m=\u001b[39m \u001b[43mpyxbuild\u001b[49m\u001b[38;5;241;43m.\u001b[39;49m\u001b[43mpyx_to_dll\u001b[49m\u001b[43m(\u001b[49m\u001b[43mpyxfilename\u001b[49m\u001b[43m,\u001b[49m\u001b[43m \u001b[49m\u001b[43mextension_mod\u001b[49m\u001b[43m,\u001b[49m\n\u001b[1;32m    187\u001b[0m \u001b[43m                              \u001b[49m\u001b[43mbuild_in_temp\u001b[49m\u001b[38;5;241;43m=\u001b[39;49m\u001b[43mbuild_in_temp\u001b[49m\u001b[43m,\u001b[49m\n\u001b[1;32m    188\u001b[0m \u001b[43m                              \u001b[49m\u001b[43mpyxbuild_dir\u001b[49m\u001b[38;5;241;43m=\u001b[39;49m\u001b[43mpyxbuild_dir\u001b[49m\u001b[43m,\u001b[49m\n\u001b[1;32m    189\u001b[0m \u001b[43m                              \u001b[49m\u001b[43msetup_args\u001b[49m\u001b[38;5;241;43m=\u001b[39;49m\u001b[43msargs\u001b[49m\u001b[43m,\u001b[49m\n\u001b[1;32m    190\u001b[0m \u001b[43m                              \u001b[49m\u001b[43minplace\u001b[49m\u001b[38;5;241;43m=\u001b[39;49m\u001b[43minplace\u001b[49m\u001b[43m,\u001b[49m\n\u001b[1;32m    191\u001b[0m \u001b[43m                              \u001b[49m\u001b[43mreload_support\u001b[49m\u001b[38;5;241;43m=\u001b[39;49m\u001b[43mpyxargs\u001b[49m\u001b[38;5;241;43m.\u001b[39;49m\u001b[43mreload_support\u001b[49m\u001b[43m)\u001b[49m\n\u001b[1;32m    192\u001b[0m \u001b[38;5;28;01massert\u001b[39;00m os\u001b[38;5;241m.\u001b[39mpath\u001b[38;5;241m.\u001b[39mexists(so_path), \u001b[38;5;124m\"\u001b[39m\u001b[38;5;124mCannot find: \u001b[39m\u001b[38;5;132;01m%s\u001b[39;00m\u001b[38;5;124m\"\u001b[39m \u001b[38;5;241m%\u001b[39m so_path\n",
      "File \u001b[0;32m/opt/miniconda3/envs/genomic/lib/python3.10/site-packages/pyximport/pyxbuild.py:102\u001b[0m, in \u001b[0;36mpyx_to_dll\u001b[0;34m(filename, ext, force_rebuild, build_in_temp, pyxbuild_dir, setup_args, reload_support, inplace)\u001b[0m\n\u001b[1;32m    101\u001b[0m obj_build_ext \u001b[38;5;241m=\u001b[39m dist\u001b[38;5;241m.\u001b[39mget_command_obj(\u001b[38;5;124m\"\u001b[39m\u001b[38;5;124mbuild_ext\u001b[39m\u001b[38;5;124m\"\u001b[39m)\n\u001b[0;32m--> 102\u001b[0m \u001b[43mdist\u001b[49m\u001b[38;5;241;43m.\u001b[39;49m\u001b[43mrun_commands\u001b[49m\u001b[43m(\u001b[49m\u001b[43m)\u001b[49m\n\u001b[1;32m    103\u001b[0m so_path \u001b[38;5;241m=\u001b[39m obj_build_ext\u001b[38;5;241m.\u001b[39mget_outputs()[\u001b[38;5;241m0\u001b[39m]\n",
      "File \u001b[0;32m/opt/miniconda3/envs/genomic/lib/python3.10/site-packages/setuptools/_distutils/dist.py:967\u001b[0m, in \u001b[0;36mDistribution.run_commands\u001b[0;34m(self)\u001b[0m\n\u001b[1;32m    966\u001b[0m \u001b[38;5;28;01mfor\u001b[39;00m cmd \u001b[38;5;129;01min\u001b[39;00m \u001b[38;5;28mself\u001b[39m\u001b[38;5;241m.\u001b[39mcommands:\n\u001b[0;32m--> 967\u001b[0m     \u001b[38;5;28;43mself\u001b[39;49m\u001b[38;5;241;43m.\u001b[39;49m\u001b[43mrun_command\u001b[49m\u001b[43m(\u001b[49m\u001b[43mcmd\u001b[49m\u001b[43m)\u001b[49m\n",
      "File \u001b[0;32m/opt/miniconda3/envs/genomic/lib/python3.10/site-packages/setuptools/dist.py:1214\u001b[0m, in \u001b[0;36mDistribution.run_command\u001b[0;34m(self, command)\u001b[0m\n\u001b[1;32m   1211\u001b[0m \u001b[38;5;66;03m# Postpone defaults until all explicit configuration is considered\u001b[39;00m\n\u001b[1;32m   1212\u001b[0m \u001b[38;5;66;03m# (setup() args, config files, command line and plugins)\u001b[39;00m\n\u001b[0;32m-> 1214\u001b[0m \u001b[38;5;28;43msuper\u001b[39;49m\u001b[43m(\u001b[49m\u001b[43m)\u001b[49m\u001b[38;5;241;43m.\u001b[39;49m\u001b[43mrun_command\u001b[49m\u001b[43m(\u001b[49m\u001b[43mcommand\u001b[49m\u001b[43m)\u001b[49m\n",
      "File \u001b[0;32m/opt/miniconda3/envs/genomic/lib/python3.10/site-packages/setuptools/_distutils/dist.py:986\u001b[0m, in \u001b[0;36mDistribution.run_command\u001b[0;34m(self, command)\u001b[0m\n\u001b[1;32m    985\u001b[0m cmd_obj\u001b[38;5;241m.\u001b[39mensure_finalized()\n\u001b[0;32m--> 986\u001b[0m \u001b[43mcmd_obj\u001b[49m\u001b[38;5;241;43m.\u001b[39;49m\u001b[43mrun\u001b[49m\u001b[43m(\u001b[49m\u001b[43m)\u001b[49m\n\u001b[1;32m    987\u001b[0m \u001b[38;5;28mself\u001b[39m\u001b[38;5;241m.\u001b[39mhave_run[command] \u001b[38;5;241m=\u001b[39m \u001b[38;5;241m1\u001b[39m\n",
      "File \u001b[0;32m/opt/miniconda3/envs/genomic/lib/python3.10/site-packages/Cython/Distutils/old_build_ext.py:186\u001b[0m, in \u001b[0;36mold_build_ext.run\u001b[0;34m(self)\u001b[0m\n\u001b[1;32m    184\u001b[0m     optimization\u001b[38;5;241m.\u001b[39mdisable_optimization()\n\u001b[0;32m--> 186\u001b[0m \u001b[43m_build_ext\u001b[49m\u001b[38;5;241;43m.\u001b[39;49m\u001b[43mbuild_ext\u001b[49m\u001b[38;5;241;43m.\u001b[39;49m\u001b[43mrun\u001b[49m\u001b[43m(\u001b[49m\u001b[38;5;28;43mself\u001b[39;49m\u001b[43m)\u001b[49m\n",
      "File \u001b[0;32m/opt/miniconda3/envs/genomic/lib/python3.10/site-packages/setuptools/_distutils/command/build_ext.py:339\u001b[0m, in \u001b[0;36mbuild_ext.run\u001b[0;34m(self)\u001b[0m\n\u001b[1;32m    338\u001b[0m \u001b[38;5;66;03m# Now actually compile and link everything.\u001b[39;00m\n\u001b[0;32m--> 339\u001b[0m \u001b[38;5;28;43mself\u001b[39;49m\u001b[38;5;241;43m.\u001b[39;49m\u001b[43mbuild_extensions\u001b[49m\u001b[43m(\u001b[49m\u001b[43m)\u001b[49m\n",
      "File \u001b[0;32m/opt/miniconda3/envs/genomic/lib/python3.10/site-packages/Cython/Distutils/old_build_ext.py:195\u001b[0m, in \u001b[0;36mold_build_ext.build_extensions\u001b[0;34m(self)\u001b[0m\n\u001b[1;32m    194\u001b[0m \u001b[38;5;66;03m# Call original build_extensions\u001b[39;00m\n\u001b[0;32m--> 195\u001b[0m \u001b[43m_build_ext\u001b[49m\u001b[38;5;241;43m.\u001b[39;49m\u001b[43mbuild_ext\u001b[49m\u001b[38;5;241;43m.\u001b[39;49m\u001b[43mbuild_extensions\u001b[49m\u001b[43m(\u001b[49m\u001b[38;5;28;43mself\u001b[39;49m\u001b[43m)\u001b[49m\n",
      "File \u001b[0;32m/opt/miniconda3/envs/genomic/lib/python3.10/site-packages/setuptools/_distutils/command/build_ext.py:448\u001b[0m, in \u001b[0;36mbuild_ext.build_extensions\u001b[0;34m(self)\u001b[0m\n\u001b[1;32m    447\u001b[0m \u001b[38;5;28;01melse\u001b[39;00m:\n\u001b[0;32m--> 448\u001b[0m     \u001b[38;5;28;43mself\u001b[39;49m\u001b[38;5;241;43m.\u001b[39;49m\u001b[43m_build_extensions_serial\u001b[49m\u001b[43m(\u001b[49m\u001b[43m)\u001b[49m\n",
      "File \u001b[0;32m/opt/miniconda3/envs/genomic/lib/python3.10/site-packages/setuptools/_distutils/command/build_ext.py:473\u001b[0m, in \u001b[0;36mbuild_ext._build_extensions_serial\u001b[0;34m(self)\u001b[0m\n\u001b[1;32m    472\u001b[0m \u001b[38;5;28;01mwith\u001b[39;00m \u001b[38;5;28mself\u001b[39m\u001b[38;5;241m.\u001b[39m_filter_build_errors(ext):\n\u001b[0;32m--> 473\u001b[0m     \u001b[38;5;28;43mself\u001b[39;49m\u001b[38;5;241;43m.\u001b[39;49m\u001b[43mbuild_extension\u001b[49m\u001b[43m(\u001b[49m\u001b[43mext\u001b[49m\u001b[43m)\u001b[49m\n",
      "File \u001b[0;32m/opt/miniconda3/envs/genomic/lib/python3.10/site-packages/setuptools/_distutils/command/build_ext.py:528\u001b[0m, in \u001b[0;36mbuild_ext.build_extension\u001b[0;34m(self, ext)\u001b[0m\n\u001b[1;32m    526\u001b[0m     macros\u001b[38;5;241m.\u001b[39mappend((undef,))\n\u001b[0;32m--> 528\u001b[0m objects \u001b[38;5;241m=\u001b[39m \u001b[38;5;28;43mself\u001b[39;49m\u001b[38;5;241;43m.\u001b[39;49m\u001b[43mcompiler\u001b[49m\u001b[38;5;241;43m.\u001b[39;49m\u001b[43mcompile\u001b[49m\u001b[43m(\u001b[49m\u001b[43msources\u001b[49m\u001b[43m,\u001b[49m\n\u001b[1;32m    529\u001b[0m \u001b[43m                                 \u001b[49m\u001b[43moutput_dir\u001b[49m\u001b[38;5;241;43m=\u001b[39;49m\u001b[38;5;28;43mself\u001b[39;49m\u001b[38;5;241;43m.\u001b[39;49m\u001b[43mbuild_temp\u001b[49m\u001b[43m,\u001b[49m\n\u001b[1;32m    530\u001b[0m \u001b[43m                                 \u001b[49m\u001b[43mmacros\u001b[49m\u001b[38;5;241;43m=\u001b[39;49m\u001b[43mmacros\u001b[49m\u001b[43m,\u001b[49m\n\u001b[1;32m    531\u001b[0m \u001b[43m                                 \u001b[49m\u001b[43minclude_dirs\u001b[49m\u001b[38;5;241;43m=\u001b[39;49m\u001b[43mext\u001b[49m\u001b[38;5;241;43m.\u001b[39;49m\u001b[43minclude_dirs\u001b[49m\u001b[43m,\u001b[49m\n\u001b[1;32m    532\u001b[0m \u001b[43m                                 \u001b[49m\u001b[43mdebug\u001b[49m\u001b[38;5;241;43m=\u001b[39;49m\u001b[38;5;28;43mself\u001b[39;49m\u001b[38;5;241;43m.\u001b[39;49m\u001b[43mdebug\u001b[49m\u001b[43m,\u001b[49m\n\u001b[1;32m    533\u001b[0m \u001b[43m                                 \u001b[49m\u001b[43mextra_postargs\u001b[49m\u001b[38;5;241;43m=\u001b[39;49m\u001b[43mextra_args\u001b[49m\u001b[43m,\u001b[49m\n\u001b[1;32m    534\u001b[0m \u001b[43m                                 \u001b[49m\u001b[43mdepends\u001b[49m\u001b[38;5;241;43m=\u001b[39;49m\u001b[43mext\u001b[49m\u001b[38;5;241;43m.\u001b[39;49m\u001b[43mdepends\u001b[49m\u001b[43m)\u001b[49m\n\u001b[1;32m    536\u001b[0m \u001b[38;5;66;03m# XXX outdated variable, kept here in case third-part code\u001b[39;00m\n\u001b[1;32m    537\u001b[0m \u001b[38;5;66;03m# needs it.\u001b[39;00m\n",
      "File \u001b[0;32m/opt/miniconda3/envs/genomic/lib/python3.10/site-packages/setuptools/_distutils/ccompiler.py:574\u001b[0m, in \u001b[0;36mCCompiler.compile\u001b[0;34m(self, sources, output_dir, macros, include_dirs, debug, extra_preargs, extra_postargs, depends)\u001b[0m\n\u001b[1;32m    573\u001b[0m         \u001b[38;5;28;01mcontinue\u001b[39;00m\n\u001b[0;32m--> 574\u001b[0m     \u001b[38;5;28;43mself\u001b[39;49m\u001b[38;5;241;43m.\u001b[39;49m\u001b[43m_compile\u001b[49m\u001b[43m(\u001b[49m\u001b[43mobj\u001b[49m\u001b[43m,\u001b[49m\u001b[43m \u001b[49m\u001b[43msrc\u001b[49m\u001b[43m,\u001b[49m\u001b[43m \u001b[49m\u001b[43mext\u001b[49m\u001b[43m,\u001b[49m\u001b[43m \u001b[49m\u001b[43mcc_args\u001b[49m\u001b[43m,\u001b[49m\u001b[43m \u001b[49m\u001b[43mextra_postargs\u001b[49m\u001b[43m,\u001b[49m\u001b[43m \u001b[49m\u001b[43mpp_opts\u001b[49m\u001b[43m)\u001b[49m\n\u001b[1;32m    576\u001b[0m \u001b[38;5;66;03m# Return *all* object filenames, not just the ones we just built.\u001b[39;00m\n",
      "File \u001b[0;32m/opt/miniconda3/envs/genomic/lib/python3.10/site-packages/setuptools/_distutils/unixccompiler.py:176\u001b[0m, in \u001b[0;36mUnixCCompiler._compile\u001b[0;34m(self, obj, src, ext, cc_args, extra_postargs, pp_opts)\u001b[0m\n\u001b[1;32m    175\u001b[0m \u001b[38;5;28;01mexcept\u001b[39;00m DistutilsExecError \u001b[38;5;28;01mas\u001b[39;00m msg:\n\u001b[0;32m--> 176\u001b[0m     \u001b[38;5;28;01mraise\u001b[39;00m CompileError(msg)\n",
      "\u001b[0;31mCompileError\u001b[0m: command '/opt/miniconda3/envs/genomic/bin/arm64-apple-darwin20.0.0-clang' failed with exit code 1",
      "\nDuring handling of the above exception, another exception occurred:\n",
      "\u001b[0;31mImportError\u001b[0m                               Traceback (most recent call last)",
      "Input \u001b[0;32mIn [4]\u001b[0m, in \u001b[0;36m<cell line: 13>\u001b[0;34m()\u001b[0m\n\u001b[1;32m      5\u001b[0m get_ipython()\u001b[38;5;241m.\u001b[39mrun_line_magic(\u001b[38;5;124m'\u001b[39m\u001b[38;5;124mload_ext\u001b[39m\u001b[38;5;124m'\u001b[39m, \u001b[38;5;124m'\u001b[39m\u001b[38;5;124mCython\u001b[39m\u001b[38;5;124m'\u001b[39m)\n\u001b[1;32m      6\u001b[0m pyximport\u001b[38;5;241m.\u001b[39minstall(setup_args\u001b[38;5;241m=\u001b[39m{\n\u001b[1;32m      7\u001b[0m                               \u001b[38;5;124m\"\u001b[39m\u001b[38;5;124minclude_dirs\u001b[39m\u001b[38;5;124m\"\u001b[39m:np\u001b[38;5;241m.\u001b[39mget_include(),\n\u001b[1;32m      8\u001b[0m                                 \u001b[38;5;124m\"\u001b[39m\u001b[38;5;124mlanguage\u001b[39m\u001b[38;5;124m\"\u001b[39m:\u001b[38;5;124m\"\u001b[39m\u001b[38;5;124mc++\u001b[39m\u001b[38;5;124m\"\u001b[39m,\n\u001b[0;32m   (...)\u001b[0m\n\u001b[1;32m     11\u001b[0m                               \u001b[38;5;66;03m# ,\u001b[39;00m\n\u001b[1;32m     12\u001b[0m                   reload_support\u001b[38;5;241m=\u001b[39m\u001b[38;5;28;01mTrue\u001b[39;00m)\n\u001b[0;32m---> 13\u001b[0m \u001b[38;5;28;01mimport\u001b[39;00m \u001b[38;5;21;01mSLFVP\u001b[39;00m\n",
      "File \u001b[0;32m/opt/miniconda3/envs/genomic/lib/python3.10/site-packages/pyximport/pyximport.py:459\u001b[0m, in \u001b[0;36mPyxLoader.load_module\u001b[0;34m(self, fullname)\u001b[0m\n\u001b[1;32m    456\u001b[0m     module\u001b[38;5;241m.\u001b[39m__path__ \u001b[38;5;241m=\u001b[39m [\u001b[38;5;28mself\u001b[39m\u001b[38;5;241m.\u001b[39mpath]\n\u001b[1;32m    457\u001b[0m \u001b[38;5;28;01melse\u001b[39;00m:\n\u001b[1;32m    458\u001b[0m     \u001b[38;5;66;03m#print \"MODULE\", fullname\u001b[39;00m\n\u001b[0;32m--> 459\u001b[0m     module \u001b[38;5;241m=\u001b[39m \u001b[43mload_module\u001b[49m\u001b[43m(\u001b[49m\u001b[43mfullname\u001b[49m\u001b[43m,\u001b[49m\u001b[43m \u001b[49m\u001b[38;5;28;43mself\u001b[39;49m\u001b[38;5;241;43m.\u001b[39;49m\u001b[43mpath\u001b[49m\u001b[43m,\u001b[49m\n\u001b[1;32m    460\u001b[0m \u001b[43m                         \u001b[49m\u001b[38;5;28;43mself\u001b[39;49m\u001b[38;5;241;43m.\u001b[39;49m\u001b[43mpyxbuild_dir\u001b[49m\u001b[43m,\u001b[49m\n\u001b[1;32m    461\u001b[0m \u001b[43m                         \u001b[49m\u001b[43mbuild_inplace\u001b[49m\u001b[38;5;241;43m=\u001b[39;49m\u001b[38;5;28;43mself\u001b[39;49m\u001b[38;5;241;43m.\u001b[39;49m\u001b[43minplace\u001b[49m\u001b[43m,\u001b[49m\n\u001b[1;32m    462\u001b[0m \u001b[43m                         \u001b[49m\u001b[43mlanguage_level\u001b[49m\u001b[38;5;241;43m=\u001b[39;49m\u001b[38;5;28;43mself\u001b[39;49m\u001b[38;5;241;43m.\u001b[39;49m\u001b[43mlanguage_level\u001b[49m\u001b[43m)\u001b[49m\n\u001b[1;32m    463\u001b[0m \u001b[38;5;28;01mreturn\u001b[39;00m module\n",
      "File \u001b[0;32m/opt/miniconda3/envs/genomic/lib/python3.10/site-packages/pyximport/pyximport.py:231\u001b[0m, in \u001b[0;36mload_module\u001b[0;34m(name, pyxfilename, pyxbuild_dir, is_package, build_inplace, language_level, so_path)\u001b[0m\n\u001b[1;32m    228\u001b[0m exc \u001b[38;5;241m=\u001b[39m \u001b[38;5;167;01mImportError\u001b[39;00m(\u001b[38;5;124m\"\u001b[39m\u001b[38;5;124mBuilding module \u001b[39m\u001b[38;5;132;01m%s\u001b[39;00m\u001b[38;5;124m failed: \u001b[39m\u001b[38;5;132;01m%s\u001b[39;00m\u001b[38;5;124m\"\u001b[39m \u001b[38;5;241m%\u001b[39m (\n\u001b[1;32m    229\u001b[0m     name, traceback\u001b[38;5;241m.\u001b[39mformat_exception_only(\u001b[38;5;241m*\u001b[39msys\u001b[38;5;241m.\u001b[39mexc_info()[:\u001b[38;5;241m2\u001b[39m])))\n\u001b[1;32m    230\u001b[0m \u001b[38;5;28;01mif\u001b[39;00m sys\u001b[38;5;241m.\u001b[39mversion_info[\u001b[38;5;241m0\u001b[39m] \u001b[38;5;241m>\u001b[39m\u001b[38;5;241m=\u001b[39m \u001b[38;5;241m3\u001b[39m:\n\u001b[0;32m--> 231\u001b[0m     \u001b[38;5;28;01mraise\u001b[39;00m exc\u001b[38;5;241m.\u001b[39mwith_traceback(tb)\n\u001b[1;32m    232\u001b[0m \u001b[38;5;28;01melse\u001b[39;00m:\n\u001b[1;32m    233\u001b[0m     exec(\u001b[38;5;124m\"\u001b[39m\u001b[38;5;124mraise exc, None, tb\u001b[39m\u001b[38;5;124m\"\u001b[39m, {\u001b[38;5;124m'\u001b[39m\u001b[38;5;124mexc\u001b[39m\u001b[38;5;124m'\u001b[39m: exc, \u001b[38;5;124m'\u001b[39m\u001b[38;5;124mtb\u001b[39m\u001b[38;5;124m'\u001b[39m: tb})\n",
      "File \u001b[0;32m/opt/miniconda3/envs/genomic/lib/python3.10/site-packages/pyximport/pyximport.py:214\u001b[0m, in \u001b[0;36mload_module\u001b[0;34m(name, pyxfilename, pyxbuild_dir, is_package, build_inplace, language_level, so_path)\u001b[0m\n\u001b[1;32m    212\u001b[0m     \u001b[38;5;28;01melse\u001b[39;00m:\n\u001b[1;32m    213\u001b[0m         module_name \u001b[38;5;241m=\u001b[39m name\n\u001b[0;32m--> 214\u001b[0m     so_path \u001b[38;5;241m=\u001b[39m \u001b[43mbuild_module\u001b[49m\u001b[43m(\u001b[49m\u001b[43mmodule_name\u001b[49m\u001b[43m,\u001b[49m\u001b[43m \u001b[49m\u001b[43mpyxfilename\u001b[49m\u001b[43m,\u001b[49m\u001b[43m \u001b[49m\u001b[43mpyxbuild_dir\u001b[49m\u001b[43m,\u001b[49m\n\u001b[1;32m    215\u001b[0m \u001b[43m                           \u001b[49m\u001b[43minplace\u001b[49m\u001b[38;5;241;43m=\u001b[39;49m\u001b[43mbuild_inplace\u001b[49m\u001b[43m,\u001b[49m\u001b[43m \u001b[49m\u001b[43mlanguage_level\u001b[49m\u001b[38;5;241;43m=\u001b[39;49m\u001b[43mlanguage_level\u001b[49m\u001b[43m)\u001b[49m\n\u001b[1;32m    216\u001b[0m mod \u001b[38;5;241m=\u001b[39m imp\u001b[38;5;241m.\u001b[39mload_dynamic(name, so_path)\n\u001b[1;32m    217\u001b[0m \u001b[38;5;28;01mif\u001b[39;00m is_package \u001b[38;5;129;01mand\u001b[39;00m \u001b[38;5;129;01mnot\u001b[39;00m \u001b[38;5;28mhasattr\u001b[39m(mod, \u001b[38;5;124m'\u001b[39m\u001b[38;5;124m__path__\u001b[39m\u001b[38;5;124m'\u001b[39m):\n",
      "File \u001b[0;32m/opt/miniconda3/envs/genomic/lib/python3.10/site-packages/pyximport/pyximport.py:186\u001b[0m, in \u001b[0;36mbuild_module\u001b[0;34m(name, pyxfilename, pyxbuild_dir, inplace, language_level)\u001b[0m\n\u001b[1;32m    183\u001b[0m build_in_temp \u001b[38;5;241m=\u001b[39m sargs\u001b[38;5;241m.\u001b[39mpop(\u001b[38;5;124m'\u001b[39m\u001b[38;5;124mbuild_in_temp\u001b[39m\u001b[38;5;124m'\u001b[39m,build_in_temp)\n\u001b[1;32m    185\u001b[0m \u001b[38;5;28;01mfrom\u001b[39;00m \u001b[38;5;21;01m.\u001b[39;00m \u001b[38;5;28;01mimport\u001b[39;00m pyxbuild\n\u001b[0;32m--> 186\u001b[0m so_path \u001b[38;5;241m=\u001b[39m \u001b[43mpyxbuild\u001b[49m\u001b[38;5;241;43m.\u001b[39;49m\u001b[43mpyx_to_dll\u001b[49m\u001b[43m(\u001b[49m\u001b[43mpyxfilename\u001b[49m\u001b[43m,\u001b[49m\u001b[43m \u001b[49m\u001b[43mextension_mod\u001b[49m\u001b[43m,\u001b[49m\n\u001b[1;32m    187\u001b[0m \u001b[43m                              \u001b[49m\u001b[43mbuild_in_temp\u001b[49m\u001b[38;5;241;43m=\u001b[39;49m\u001b[43mbuild_in_temp\u001b[49m\u001b[43m,\u001b[49m\n\u001b[1;32m    188\u001b[0m \u001b[43m                              \u001b[49m\u001b[43mpyxbuild_dir\u001b[49m\u001b[38;5;241;43m=\u001b[39;49m\u001b[43mpyxbuild_dir\u001b[49m\u001b[43m,\u001b[49m\n\u001b[1;32m    189\u001b[0m \u001b[43m                              \u001b[49m\u001b[43msetup_args\u001b[49m\u001b[38;5;241;43m=\u001b[39;49m\u001b[43msargs\u001b[49m\u001b[43m,\u001b[49m\n\u001b[1;32m    190\u001b[0m \u001b[43m                              \u001b[49m\u001b[43minplace\u001b[49m\u001b[38;5;241;43m=\u001b[39;49m\u001b[43minplace\u001b[49m\u001b[43m,\u001b[49m\n\u001b[1;32m    191\u001b[0m \u001b[43m                              \u001b[49m\u001b[43mreload_support\u001b[49m\u001b[38;5;241;43m=\u001b[39;49m\u001b[43mpyxargs\u001b[49m\u001b[38;5;241;43m.\u001b[39;49m\u001b[43mreload_support\u001b[49m\u001b[43m)\u001b[49m\n\u001b[1;32m    192\u001b[0m \u001b[38;5;28;01massert\u001b[39;00m os\u001b[38;5;241m.\u001b[39mpath\u001b[38;5;241m.\u001b[39mexists(so_path), \u001b[38;5;124m\"\u001b[39m\u001b[38;5;124mCannot find: \u001b[39m\u001b[38;5;132;01m%s\u001b[39;00m\u001b[38;5;124m\"\u001b[39m \u001b[38;5;241m%\u001b[39m so_path\n\u001b[1;32m    194\u001b[0m junkpath \u001b[38;5;241m=\u001b[39m os\u001b[38;5;241m.\u001b[39mpath\u001b[38;5;241m.\u001b[39mjoin(os\u001b[38;5;241m.\u001b[39mpath\u001b[38;5;241m.\u001b[39mdirname(so_path), name\u001b[38;5;241m+\u001b[39m\u001b[38;5;124m\"\u001b[39m\u001b[38;5;124m_*\u001b[39m\u001b[38;5;124m\"\u001b[39m) \u001b[38;5;66;03m#very dangerous with --inplace ? yes, indeed, trying to eat my files ;)\u001b[39;00m\n",
      "File \u001b[0;32m/opt/miniconda3/envs/genomic/lib/python3.10/site-packages/pyximport/pyxbuild.py:102\u001b[0m, in \u001b[0;36mpyx_to_dll\u001b[0;34m(filename, ext, force_rebuild, build_in_temp, pyxbuild_dir, setup_args, reload_support, inplace)\u001b[0m\n\u001b[1;32m    100\u001b[0m \u001b[38;5;28;01mtry\u001b[39;00m:\n\u001b[1;32m    101\u001b[0m     obj_build_ext \u001b[38;5;241m=\u001b[39m dist\u001b[38;5;241m.\u001b[39mget_command_obj(\u001b[38;5;124m\"\u001b[39m\u001b[38;5;124mbuild_ext\u001b[39m\u001b[38;5;124m\"\u001b[39m)\n\u001b[0;32m--> 102\u001b[0m     \u001b[43mdist\u001b[49m\u001b[38;5;241;43m.\u001b[39;49m\u001b[43mrun_commands\u001b[49m\u001b[43m(\u001b[49m\u001b[43m)\u001b[49m\n\u001b[1;32m    103\u001b[0m     so_path \u001b[38;5;241m=\u001b[39m obj_build_ext\u001b[38;5;241m.\u001b[39mget_outputs()[\u001b[38;5;241m0\u001b[39m]\n\u001b[1;32m    104\u001b[0m     \u001b[38;5;28;01mif\u001b[39;00m obj_build_ext\u001b[38;5;241m.\u001b[39minplace:\n\u001b[1;32m    105\u001b[0m         \u001b[38;5;66;03m# Python distutils get_outputs()[ returns a wrong so_path\u001b[39;00m\n\u001b[1;32m    106\u001b[0m         \u001b[38;5;66;03m# when --inplace ; see http://bugs.python.org/issue5977\u001b[39;00m\n\u001b[1;32m    107\u001b[0m         \u001b[38;5;66;03m# workaround:\u001b[39;00m\n",
      "File \u001b[0;32m/opt/miniconda3/envs/genomic/lib/python3.10/site-packages/setuptools/_distutils/dist.py:967\u001b[0m, in \u001b[0;36mDistribution.run_commands\u001b[0;34m(self)\u001b[0m\n\u001b[1;32m    962\u001b[0m \u001b[38;5;124;03m\"\"\"Run each command that was seen on the setup script command line.\u001b[39;00m\n\u001b[1;32m    963\u001b[0m \u001b[38;5;124;03mUses the list of commands found and cache of command objects\u001b[39;00m\n\u001b[1;32m    964\u001b[0m \u001b[38;5;124;03mcreated by 'get_command_obj()'.\u001b[39;00m\n\u001b[1;32m    965\u001b[0m \u001b[38;5;124;03m\"\"\"\u001b[39;00m\n\u001b[1;32m    966\u001b[0m \u001b[38;5;28;01mfor\u001b[39;00m cmd \u001b[38;5;129;01min\u001b[39;00m \u001b[38;5;28mself\u001b[39m\u001b[38;5;241m.\u001b[39mcommands:\n\u001b[0;32m--> 967\u001b[0m     \u001b[38;5;28;43mself\u001b[39;49m\u001b[38;5;241;43m.\u001b[39;49m\u001b[43mrun_command\u001b[49m\u001b[43m(\u001b[49m\u001b[43mcmd\u001b[49m\u001b[43m)\u001b[49m\n",
      "File \u001b[0;32m/opt/miniconda3/envs/genomic/lib/python3.10/site-packages/setuptools/dist.py:1214\u001b[0m, in \u001b[0;36mDistribution.run_command\u001b[0;34m(self, command)\u001b[0m\n\u001b[1;32m   1210\u001b[0m \u001b[38;5;28mself\u001b[39m\u001b[38;5;241m.\u001b[39mset_defaults()\n\u001b[1;32m   1211\u001b[0m \u001b[38;5;66;03m# Postpone defaults until all explicit configuration is considered\u001b[39;00m\n\u001b[1;32m   1212\u001b[0m \u001b[38;5;66;03m# (setup() args, config files, command line and plugins)\u001b[39;00m\n\u001b[0;32m-> 1214\u001b[0m \u001b[38;5;28;43msuper\u001b[39;49m\u001b[43m(\u001b[49m\u001b[43m)\u001b[49m\u001b[38;5;241;43m.\u001b[39;49m\u001b[43mrun_command\u001b[49m\u001b[43m(\u001b[49m\u001b[43mcommand\u001b[49m\u001b[43m)\u001b[49m\n",
      "File \u001b[0;32m/opt/miniconda3/envs/genomic/lib/python3.10/site-packages/setuptools/_distutils/dist.py:986\u001b[0m, in \u001b[0;36mDistribution.run_command\u001b[0;34m(self, command)\u001b[0m\n\u001b[1;32m    984\u001b[0m cmd_obj \u001b[38;5;241m=\u001b[39m \u001b[38;5;28mself\u001b[39m\u001b[38;5;241m.\u001b[39mget_command_obj(command)\n\u001b[1;32m    985\u001b[0m cmd_obj\u001b[38;5;241m.\u001b[39mensure_finalized()\n\u001b[0;32m--> 986\u001b[0m \u001b[43mcmd_obj\u001b[49m\u001b[38;5;241;43m.\u001b[39;49m\u001b[43mrun\u001b[49m\u001b[43m(\u001b[49m\u001b[43m)\u001b[49m\n\u001b[1;32m    987\u001b[0m \u001b[38;5;28mself\u001b[39m\u001b[38;5;241m.\u001b[39mhave_run[command] \u001b[38;5;241m=\u001b[39m \u001b[38;5;241m1\u001b[39m\n",
      "File \u001b[0;32m/opt/miniconda3/envs/genomic/lib/python3.10/site-packages/Cython/Distutils/old_build_ext.py:186\u001b[0m, in \u001b[0;36mold_build_ext.run\u001b[0;34m(self)\u001b[0m\n\u001b[1;32m    182\u001b[0m \u001b[38;5;28;01mif\u001b[39;00m \u001b[38;5;28mself\u001b[39m\u001b[38;5;241m.\u001b[39mcython_gdb \u001b[38;5;129;01mor\u001b[39;00m [\u001b[38;5;241m1\u001b[39m \u001b[38;5;28;01mfor\u001b[39;00m ext \u001b[38;5;129;01min\u001b[39;00m \u001b[38;5;28mself\u001b[39m\u001b[38;5;241m.\u001b[39mextensions\n\u001b[1;32m    183\u001b[0m                              \u001b[38;5;28;01mif\u001b[39;00m \u001b[38;5;28mgetattr\u001b[39m(ext, \u001b[38;5;124m'\u001b[39m\u001b[38;5;124mcython_gdb\u001b[39m\u001b[38;5;124m'\u001b[39m, \u001b[38;5;28;01mFalse\u001b[39;00m)]:\n\u001b[1;32m    184\u001b[0m     optimization\u001b[38;5;241m.\u001b[39mdisable_optimization()\n\u001b[0;32m--> 186\u001b[0m \u001b[43m_build_ext\u001b[49m\u001b[38;5;241;43m.\u001b[39;49m\u001b[43mbuild_ext\u001b[49m\u001b[38;5;241;43m.\u001b[39;49m\u001b[43mrun\u001b[49m\u001b[43m(\u001b[49m\u001b[38;5;28;43mself\u001b[39;49m\u001b[43m)\u001b[49m\n",
      "File \u001b[0;32m/opt/miniconda3/envs/genomic/lib/python3.10/site-packages/setuptools/_distutils/command/build_ext.py:339\u001b[0m, in \u001b[0;36mbuild_ext.run\u001b[0;34m(self)\u001b[0m\n\u001b[1;32m    336\u001b[0m     \u001b[38;5;28mself\u001b[39m\u001b[38;5;241m.\u001b[39mcompiler\u001b[38;5;241m.\u001b[39mset_link_objects(\u001b[38;5;28mself\u001b[39m\u001b[38;5;241m.\u001b[39mlink_objects)\n\u001b[1;32m    338\u001b[0m \u001b[38;5;66;03m# Now actually compile and link everything.\u001b[39;00m\n\u001b[0;32m--> 339\u001b[0m \u001b[38;5;28;43mself\u001b[39;49m\u001b[38;5;241;43m.\u001b[39;49m\u001b[43mbuild_extensions\u001b[49m\u001b[43m(\u001b[49m\u001b[43m)\u001b[49m\n",
      "File \u001b[0;32m/opt/miniconda3/envs/genomic/lib/python3.10/site-packages/Cython/Distutils/old_build_ext.py:195\u001b[0m, in \u001b[0;36mold_build_ext.build_extensions\u001b[0;34m(self)\u001b[0m\n\u001b[1;32m    193\u001b[0m     ext\u001b[38;5;241m.\u001b[39msources \u001b[38;5;241m=\u001b[39m \u001b[38;5;28mself\u001b[39m\u001b[38;5;241m.\u001b[39mcython_sources(ext\u001b[38;5;241m.\u001b[39msources, ext)\n\u001b[1;32m    194\u001b[0m \u001b[38;5;66;03m# Call original build_extensions\u001b[39;00m\n\u001b[0;32m--> 195\u001b[0m \u001b[43m_build_ext\u001b[49m\u001b[38;5;241;43m.\u001b[39;49m\u001b[43mbuild_ext\u001b[49m\u001b[38;5;241;43m.\u001b[39;49m\u001b[43mbuild_extensions\u001b[49m\u001b[43m(\u001b[49m\u001b[38;5;28;43mself\u001b[39;49m\u001b[43m)\u001b[49m\n",
      "File \u001b[0;32m/opt/miniconda3/envs/genomic/lib/python3.10/site-packages/setuptools/_distutils/command/build_ext.py:448\u001b[0m, in \u001b[0;36mbuild_ext.build_extensions\u001b[0;34m(self)\u001b[0m\n\u001b[1;32m    446\u001b[0m     \u001b[38;5;28mself\u001b[39m\u001b[38;5;241m.\u001b[39m_build_extensions_parallel()\n\u001b[1;32m    447\u001b[0m \u001b[38;5;28;01melse\u001b[39;00m:\n\u001b[0;32m--> 448\u001b[0m     \u001b[38;5;28;43mself\u001b[39;49m\u001b[38;5;241;43m.\u001b[39;49m\u001b[43m_build_extensions_serial\u001b[49m\u001b[43m(\u001b[49m\u001b[43m)\u001b[49m\n",
      "File \u001b[0;32m/opt/miniconda3/envs/genomic/lib/python3.10/site-packages/setuptools/_distutils/command/build_ext.py:473\u001b[0m, in \u001b[0;36mbuild_ext._build_extensions_serial\u001b[0;34m(self)\u001b[0m\n\u001b[1;32m    471\u001b[0m \u001b[38;5;28;01mfor\u001b[39;00m ext \u001b[38;5;129;01min\u001b[39;00m \u001b[38;5;28mself\u001b[39m\u001b[38;5;241m.\u001b[39mextensions:\n\u001b[1;32m    472\u001b[0m     \u001b[38;5;28;01mwith\u001b[39;00m \u001b[38;5;28mself\u001b[39m\u001b[38;5;241m.\u001b[39m_filter_build_errors(ext):\n\u001b[0;32m--> 473\u001b[0m         \u001b[38;5;28;43mself\u001b[39;49m\u001b[38;5;241;43m.\u001b[39;49m\u001b[43mbuild_extension\u001b[49m\u001b[43m(\u001b[49m\u001b[43mext\u001b[49m\u001b[43m)\u001b[49m\n",
      "File \u001b[0;32m/opt/miniconda3/envs/genomic/lib/python3.10/site-packages/setuptools/_distutils/command/build_ext.py:528\u001b[0m, in \u001b[0;36mbuild_ext.build_extension\u001b[0;34m(self, ext)\u001b[0m\n\u001b[1;32m    525\u001b[0m \u001b[38;5;28;01mfor\u001b[39;00m undef \u001b[38;5;129;01min\u001b[39;00m ext\u001b[38;5;241m.\u001b[39mundef_macros:\n\u001b[1;32m    526\u001b[0m     macros\u001b[38;5;241m.\u001b[39mappend((undef,))\n\u001b[0;32m--> 528\u001b[0m objects \u001b[38;5;241m=\u001b[39m \u001b[38;5;28;43mself\u001b[39;49m\u001b[38;5;241;43m.\u001b[39;49m\u001b[43mcompiler\u001b[49m\u001b[38;5;241;43m.\u001b[39;49m\u001b[43mcompile\u001b[49m\u001b[43m(\u001b[49m\u001b[43msources\u001b[49m\u001b[43m,\u001b[49m\n\u001b[1;32m    529\u001b[0m \u001b[43m                                 \u001b[49m\u001b[43moutput_dir\u001b[49m\u001b[38;5;241;43m=\u001b[39;49m\u001b[38;5;28;43mself\u001b[39;49m\u001b[38;5;241;43m.\u001b[39;49m\u001b[43mbuild_temp\u001b[49m\u001b[43m,\u001b[49m\n\u001b[1;32m    530\u001b[0m \u001b[43m                                 \u001b[49m\u001b[43mmacros\u001b[49m\u001b[38;5;241;43m=\u001b[39;49m\u001b[43mmacros\u001b[49m\u001b[43m,\u001b[49m\n\u001b[1;32m    531\u001b[0m \u001b[43m                                 \u001b[49m\u001b[43minclude_dirs\u001b[49m\u001b[38;5;241;43m=\u001b[39;49m\u001b[43mext\u001b[49m\u001b[38;5;241;43m.\u001b[39;49m\u001b[43minclude_dirs\u001b[49m\u001b[43m,\u001b[49m\n\u001b[1;32m    532\u001b[0m \u001b[43m                                 \u001b[49m\u001b[43mdebug\u001b[49m\u001b[38;5;241;43m=\u001b[39;49m\u001b[38;5;28;43mself\u001b[39;49m\u001b[38;5;241;43m.\u001b[39;49m\u001b[43mdebug\u001b[49m\u001b[43m,\u001b[49m\n\u001b[1;32m    533\u001b[0m \u001b[43m                                 \u001b[49m\u001b[43mextra_postargs\u001b[49m\u001b[38;5;241;43m=\u001b[39;49m\u001b[43mextra_args\u001b[49m\u001b[43m,\u001b[49m\n\u001b[1;32m    534\u001b[0m \u001b[43m                                 \u001b[49m\u001b[43mdepends\u001b[49m\u001b[38;5;241;43m=\u001b[39;49m\u001b[43mext\u001b[49m\u001b[38;5;241;43m.\u001b[39;49m\u001b[43mdepends\u001b[49m\u001b[43m)\u001b[49m\n\u001b[1;32m    536\u001b[0m \u001b[38;5;66;03m# XXX outdated variable, kept here in case third-part code\u001b[39;00m\n\u001b[1;32m    537\u001b[0m \u001b[38;5;66;03m# needs it.\u001b[39;00m\n\u001b[1;32m    538\u001b[0m \u001b[38;5;28mself\u001b[39m\u001b[38;5;241m.\u001b[39m_built_objects \u001b[38;5;241m=\u001b[39m objects[:]\n",
      "File \u001b[0;32m/opt/miniconda3/envs/genomic/lib/python3.10/site-packages/setuptools/_distutils/ccompiler.py:574\u001b[0m, in \u001b[0;36mCCompiler.compile\u001b[0;34m(self, sources, output_dir, macros, include_dirs, debug, extra_preargs, extra_postargs, depends)\u001b[0m\n\u001b[1;32m    572\u001b[0m     \u001b[38;5;28;01mexcept\u001b[39;00m \u001b[38;5;167;01mKeyError\u001b[39;00m:\n\u001b[1;32m    573\u001b[0m         \u001b[38;5;28;01mcontinue\u001b[39;00m\n\u001b[0;32m--> 574\u001b[0m     \u001b[38;5;28;43mself\u001b[39;49m\u001b[38;5;241;43m.\u001b[39;49m\u001b[43m_compile\u001b[49m\u001b[43m(\u001b[49m\u001b[43mobj\u001b[49m\u001b[43m,\u001b[49m\u001b[43m \u001b[49m\u001b[43msrc\u001b[49m\u001b[43m,\u001b[49m\u001b[43m \u001b[49m\u001b[43mext\u001b[49m\u001b[43m,\u001b[49m\u001b[43m \u001b[49m\u001b[43mcc_args\u001b[49m\u001b[43m,\u001b[49m\u001b[43m \u001b[49m\u001b[43mextra_postargs\u001b[49m\u001b[43m,\u001b[49m\u001b[43m \u001b[49m\u001b[43mpp_opts\u001b[49m\u001b[43m)\u001b[49m\n\u001b[1;32m    576\u001b[0m \u001b[38;5;66;03m# Return *all* object filenames, not just the ones we just built.\u001b[39;00m\n\u001b[1;32m    577\u001b[0m \u001b[38;5;28;01mreturn\u001b[39;00m objects\n",
      "File \u001b[0;32m/opt/miniconda3/envs/genomic/lib/python3.10/site-packages/setuptools/_distutils/unixccompiler.py:176\u001b[0m, in \u001b[0;36mUnixCCompiler._compile\u001b[0;34m(self, obj, src, ext, cc_args, extra_postargs, pp_opts)\u001b[0m\n\u001b[1;32m    173\u001b[0m     \u001b[38;5;28mself\u001b[39m\u001b[38;5;241m.\u001b[39mspawn(compiler_so \u001b[38;5;241m+\u001b[39m cc_args \u001b[38;5;241m+\u001b[39m [src, \u001b[38;5;124m'\u001b[39m\u001b[38;5;124m-o\u001b[39m\u001b[38;5;124m'\u001b[39m, obj] \u001b[38;5;241m+\u001b[39m\n\u001b[1;32m    174\u001b[0m                extra_postargs)\n\u001b[1;32m    175\u001b[0m \u001b[38;5;28;01mexcept\u001b[39;00m DistutilsExecError \u001b[38;5;28;01mas\u001b[39;00m msg:\n\u001b[0;32m--> 176\u001b[0m     \u001b[38;5;28;01mraise\u001b[39;00m CompileError(msg)\n",
      "\u001b[0;31mImportError\u001b[0m: Building module SLFVP failed: [\"distutils.errors.CompileError: command '/opt/miniconda3/envs/genomic/bin/arm64-apple-darwin20.0.0-clang' failed with exit code 1\\n\"]"
     ]
    }
   ],
   "source": [
    "import cython\n",
    "import pyximport\n",
    "import numpy as np\n",
    "from importlib import reload\n",
    "%load_ext Cython\n",
    "pyximport.install(setup_args={\n",
    "                              \"include_dirs\":np.get_include(),\n",
    "                                \"language\":\"c++\",\n",
    "                                \"extra_compile_args\":'\"-std=c++11\"'\n",
    "},\n",
    "                              # ,\n",
    "                  reload_support=True)\n",
    "import SLFVP"
   ]
  },
  {
   "cell_type": "code",
   "execution_count": null,
   "id": "2a3bb4e5-c665-4e64-8494-4f452e36f77d",
   "metadata": {},
   "outputs": [],
   "source": [
    "reload(SLFVP)\n",
    "import SLFVP"
   ]
  },
  {
   "cell_type": "code",
   "execution_count": null,
   "id": "4f1a7274-7603-4c19-8ea5-aa78b2270ad2",
   "metadata": {},
   "outputs": [],
   "source": [
    "a = SLFVP.SLFVP(L=1,\n",
    "                 lamda=1,\n",
    "                 u0=0.1,\n",
    "                 rho=100000,\n",
    "                 theta=0.3,\n",
    "                 alpha=1,\n",
    "                 n_alleles=2)\n",
    "a.initiate(1000, 0.5)\n",
    "a.run()"
   ]
  },
  {
   "cell_type": "code",
   "execution_count": null,
   "id": "b205206b-c17b-49a2-958d-cd4c62e6e795",
   "metadata": {
    "scrolled": true,
    "tags": []
   },
   "outputs": [],
   "source": [
    "a.plot_alleles(alpha=0.3)"
   ]
  },
  {
   "cell_type": "code",
   "execution_count": null,
   "id": "1655fe26-8ceb-4e2a-8c56-757bf779c17e",
   "metadata": {},
   "outputs": [],
   "source": [
    "a.lifetime()"
   ]
  },
  {
   "cell_type": "code",
   "execution_count": null,
   "id": "1f776084-d206-4278-a12e-6b3b9b46e00c",
   "metadata": {},
   "outputs": [],
   "source": [
    "np.array(ltime).mean()"
   ]
  },
  {
   "cell_type": "code",
   "execution_count": null,
   "id": "34f4ec12-2243-4cda-9be5-65f1b86a5528",
   "metadata": {},
   "outputs": [],
   "source": [
    "from tqdm import tqdm\n",
    "import matplotlib.pyplot as plt"
   ]
  },
  {
   "cell_type": "code",
   "execution_count": null,
   "id": "9a2d4c46-e110-40c2-a340-f28b525dd2f0",
   "metadata": {},
   "outputs": [],
   "source": [
    "list_dead = list(a.state.ids_dead)\n",
    "ltime = list()\n",
    "for i in tqdm(list_dead):\n",
    "    ltime.append(a.state.individuals[i].death_time - a.state.individuals[i].time)\n",
    "\n",
    "plt.hist(ltime, bins = 10000);"
   ]
  },
  {
   "cell_type": "code",
   "execution_count": null,
   "id": "d98df7f2-18f6-4115-8ed5-3e02321a68b3",
   "metadata": {},
   "outputs": [],
   "source": [
    "list"
   ]
  },
  {
   "cell_type": "code",
   "execution_count": null,
   "id": "e9430c2b-67a0-485b-9a27-74223a731c53",
   "metadata": {},
   "outputs": [],
   "source": []
  },
  {
   "cell_type": "code",
   "execution_count": null,
   "id": "d2448c97-adf4-4b0d-b520-e92c25f9cfa7",
   "metadata": {},
   "outputs": [],
   "source": [
    "print(a.state.n_alive)"
   ]
  },
  {
   "cell_type": "code",
   "execution_count": null,
   "id": "42f9ff98-3426-47f9-b5c0-e4aef1927743",
   "metadata": {},
   "outputs": [],
   "source": [
    "list(a.state.ids_dead)[100]"
   ]
  },
  {
   "cell_type": "code",
   "execution_count": null,
   "id": "8ae212e9-0591-401f-b10c-8d6544ff47e2",
   "metadata": {},
   "outputs": [],
   "source": [
    "a.mean_coalescense_time()"
   ]
  },
  {
   "cell_type": "code",
   "execution_count": null,
   "id": "12e81818-f094-464a-a846-72bdf4a14783",
   "metadata": {},
   "outputs": [],
   "source": [
    "a.coalescense_time(8312, 9943)"
   ]
  },
  {
   "cell_type": "code",
   "execution_count": null,
   "id": "30e72a43-d5f8-44e0-bcca-4c8a87c34ae2",
   "metadata": {},
   "outputs": [],
   "source": [
    "a.state.individuals[101].death_time"
   ]
  },
  {
   "cell_type": "code",
   "execution_count": null,
   "id": "2abd9477-6305-4c56-9034-c7503741690c",
   "metadata": {},
   "outputs": [],
   "source": []
  },
  {
   "cell_type": "code",
   "execution_count": null,
   "id": "2bada31f-17b1-4ddd-8ee3-7763d33b87e2",
   "metadata": {},
   "outputs": [],
   "source": [
    "a.lamda/a.integral"
   ]
  },
  {
   "cell_type": "code",
   "execution_count": null,
   "id": "1718b67b-e1a8-43fd-900e-4543905f097f",
   "metadata": {},
   "outputs": [],
   "source": [
    "a.mean_lifetime(), a.lamda/a.integral"
   ]
  },
  {
   "cell_type": "code",
   "execution_count": null,
   "id": "df4d232a-bd29-49e1-8135-3267975823ce",
   "metadata": {},
   "outputs": [],
   "source": [
    "a.plot_with_alleles(1)"
   ]
  },
  {
   "cell_type": "code",
   "execution_count": null,
   "id": "ae990e74-7d34-4f9a-993d-daf69f027a71",
   "metadata": {},
   "outputs": [],
   "source": []
  }
 ],
 "metadata": {
  "kernelspec": {
   "display_name": "Python 3 (ipykernel)",
   "language": "python",
   "name": "python3"
  },
  "language_info": {
   "codemirror_mode": {
    "name": "ipython",
    "version": 3
   },
   "file_extension": ".py",
   "mimetype": "text/x-python",
   "name": "python",
   "nbconvert_exporter": "python",
   "pygments_lexer": "ipython3",
   "version": "3.10.5"
  }
 },
 "nbformat": 4,
 "nbformat_minor": 5
}
